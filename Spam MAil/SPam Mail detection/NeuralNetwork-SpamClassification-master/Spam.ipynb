{
 "cells": [
  {
   "cell_type": "code",
   "execution_count": 1,
   "id": "d4815bb9",
   "metadata": {},
   "outputs": [],
   "source": [
    "import pandas as pd\n",
    "import numpy as np"
   ]
  },
  {
   "cell_type": "code",
   "execution_count": 2,
   "id": "9c26f298",
   "metadata": {},
   "outputs": [],
   "source": [
    "df = pd.read_csv(\"mail_data.csv\")"
   ]
  },
  {
   "cell_type": "code",
   "execution_count": 3,
   "id": "ba8fe241",
   "metadata": {},
   "outputs": [],
   "source": [
    "df['label_tag']=df[\"Category\"].map({\"ham\":0,\"spam\":1})"
   ]
  },
  {
   "cell_type": "code",
   "execution_count": 4,
   "id": "ff503e0c",
   "metadata": {
    "scrolled": true
   },
   "outputs": [
    {
     "data": {
      "text/html": [
       "<div>\n",
       "<style scoped>\n",
       "    .dataframe tbody tr th:only-of-type {\n",
       "        vertical-align: middle;\n",
       "    }\n",
       "\n",
       "    .dataframe tbody tr th {\n",
       "        vertical-align: top;\n",
       "    }\n",
       "\n",
       "    .dataframe thead th {\n",
       "        text-align: right;\n",
       "    }\n",
       "</style>\n",
       "<table border=\"1\" class=\"dataframe\">\n",
       "  <thead>\n",
       "    <tr style=\"text-align: right;\">\n",
       "      <th></th>\n",
       "      <th>Category</th>\n",
       "      <th>Message</th>\n",
       "      <th>label_tag</th>\n",
       "    </tr>\n",
       "  </thead>\n",
       "  <tbody>\n",
       "    <tr>\n",
       "      <th>0</th>\n",
       "      <td>ham</td>\n",
       "      <td>Go until jurong point, crazy.. Available only ...</td>\n",
       "      <td>0</td>\n",
       "    </tr>\n",
       "    <tr>\n",
       "      <th>1</th>\n",
       "      <td>ham</td>\n",
       "      <td>Ok lar... Joking wif u oni...</td>\n",
       "      <td>0</td>\n",
       "    </tr>\n",
       "    <tr>\n",
       "      <th>2</th>\n",
       "      <td>spam</td>\n",
       "      <td>Free entry in 2 a wkly comp to win FA Cup fina...</td>\n",
       "      <td>1</td>\n",
       "    </tr>\n",
       "    <tr>\n",
       "      <th>3</th>\n",
       "      <td>ham</td>\n",
       "      <td>U dun say so early hor... U c already then say...</td>\n",
       "      <td>0</td>\n",
       "    </tr>\n",
       "    <tr>\n",
       "      <th>4</th>\n",
       "      <td>ham</td>\n",
       "      <td>Nah I don't think he goes to usf, he lives aro...</td>\n",
       "      <td>0</td>\n",
       "    </tr>\n",
       "  </tbody>\n",
       "</table>\n",
       "</div>"
      ],
      "text/plain": [
       "  Category                                            Message  label_tag\n",
       "0      ham  Go until jurong point, crazy.. Available only ...          0\n",
       "1      ham                      Ok lar... Joking wif u oni...          0\n",
       "2     spam  Free entry in 2 a wkly comp to win FA Cup fina...          1\n",
       "3      ham  U dun say so early hor... U c already then say...          0\n",
       "4      ham  Nah I don't think he goes to usf, he lives aro...          0"
      ]
     },
     "execution_count": 4,
     "metadata": {},
     "output_type": "execute_result"
    }
   ],
   "source": [
    "df.head()"
   ]
  },
  {
   "cell_type": "code",
   "execution_count": 5,
   "id": "883908fa",
   "metadata": {},
   "outputs": [],
   "source": [
    "y = df.iloc[:,-1]"
   ]
  },
  {
   "cell_type": "code",
   "execution_count": 6,
   "id": "b653763d",
   "metadata": {},
   "outputs": [],
   "source": [
    "X=df.iloc[:, 1:]"
   ]
  },
  {
   "cell_type": "code",
   "execution_count": 7,
   "id": "7a2615ff",
   "metadata": {},
   "outputs": [
    {
     "name": "stdout",
     "output_type": "stream",
     "text": [
      "                                                Message  label_tag\n",
      "0     Go until jurong point, crazy.. Available only ...          0\n",
      "1                         Ok lar... Joking wif u oni...          0\n",
      "2     Free entry in 2 a wkly comp to win FA Cup fina...          1\n",
      "3     U dun say so early hor... U c already then say...          0\n",
      "4     Nah I don't think he goes to usf, he lives aro...          0\n",
      "...                                                 ...        ...\n",
      "5567  This is the 2nd time we have tried 2 contact u...          1\n",
      "5568               Will ü b going to esplanade fr home?          0\n",
      "5569  Pity, * was in mood for that. So...any other s...          0\n",
      "5570  The guy did some bitching but I acted like i'd...          0\n",
      "5571                         Rofl. Its true to its name          0\n",
      "\n",
      "[5572 rows x 2 columns]\n"
     ]
    }
   ],
   "source": [
    "print(X)"
   ]
  },
  {
   "cell_type": "code",
   "execution_count": 8,
   "id": "da514069",
   "metadata": {},
   "outputs": [
    {
     "name": "stdout",
     "output_type": "stream",
     "text": [
      "0       0\n",
      "1       0\n",
      "2       1\n",
      "3       0\n",
      "4       0\n",
      "       ..\n",
      "5567    1\n",
      "5568    0\n",
      "5569    0\n",
      "5570    0\n",
      "5571    0\n",
      "Name: label_tag, Length: 5572, dtype: int64\n"
     ]
    }
   ],
   "source": [
    "print(y)"
   ]
  },
  {
   "cell_type": "code",
   "execution_count": null,
   "id": "6f013599",
   "metadata": {},
   "outputs": [],
   "source": [
    "from sklearn.model_selection import train_test_split\n",
    "X_train, X_test, y_train, y_test=train_test_split(X, y, test_size=0.15, random_state=8)"
   ]
  },
  {
   "cell_type": "code",
   "execution_count": null,
   "id": "1338cfb8",
   "metadata": {},
   "outputs": [],
   "source": [
    "X.shape"
   ]
  },
  {
   "cell_type": "code",
   "execution_count": null,
   "id": "242cb0b1",
   "metadata": {},
   "outputs": [],
   "source": [
    "y.shape"
   ]
  },
  {
   "cell_type": "code",
   "execution_count": null,
   "id": "87b45c4d",
   "metadata": {},
   "outputs": [],
   "source": [
    "X_train"
   ]
  },
  {
   "cell_type": "code",
   "execution_count": null,
   "id": "ff035c9c",
   "metadata": {},
   "outputs": [],
   "source": [
    "from sklearn.feature_extraction.text import TfidfVectorizer"
   ]
  },
  {
   "cell_type": "code",
   "execution_count": null,
   "id": "8ad67884",
   "metadata": {},
   "outputs": [],
   "source": [
    "feature_extraction  = TfidfVectorizer(min_df = 1,stop_words = 'english', lowercase = 'True')"
   ]
  },
  {
   "cell_type": "code",
   "execution_count": null,
   "id": "1c8a95ca",
   "metadata": {},
   "outputs": [],
   "source": [
    "x_train_feature = feature_extraction.fit_transform(X_train.Message)\n",
    "print(x_train_feature)"
   ]
  },
  {
   "cell_type": "code",
   "execution_count": null,
   "id": "7fa4a535",
   "metadata": {
    "scrolled": true
   },
   "outputs": [],
   "source": [
    "x_test_feature = feature_extraction.transform(X_test.Message)\n",
    "print(x_test_feature)"
   ]
  },
  {
   "cell_type": "code",
   "execution_count": null,
   "id": "5f7ce889",
   "metadata": {},
   "outputs": [],
   "source": [
    "y_train = y_train.astype('int')\n",
    "y_test = y_test.astype('int')"
   ]
  },
  {
   "cell_type": "code",
   "execution_count": null,
   "id": "f8fe3e33",
   "metadata": {},
   "outputs": [],
   "source": [
    "from sklearn.neural_network import MLPClassifier\n",
    "from sklearn.metrics import accuracy_score"
   ]
  },
  {
   "cell_type": "code",
   "execution_count": null,
   "id": "a685f477",
   "metadata": {},
   "outputs": [],
   "source": [
    "models={\"Multi-layer Perceptron Classification\": MLPClassifier(hidden_layer_sizes=[20, 20], \\\n",
    "                                                           learning_rate='adaptive', random_state=8)}"
   ]
  },
  {
   "cell_type": "code",
   "execution_count": null,
   "id": "c8d92507",
   "metadata": {},
   "outputs": [],
   "source": [
    "for model_name, model in models.items():\n",
    "    y_pred=model.fit(x_train_feature, y_train).predict(x_test_feature)\n",
    "    print(y_pred)\n",
    "    print(f\"Accuracy for {model_name} model : {accuracy_score(y_test, y_pred)}\")"
   ]
  },
  {
   "cell_type": "code",
   "execution_count": null,
   "id": "8c7a1845",
   "metadata": {},
   "outputs": [],
   "source": [
    "y_pred=model.fit(x_train_feature, y_train).predict(a)"
   ]
  },
  {
   "cell_type": "code",
   "execution_count": null,
   "id": "95c5a31e",
   "metadata": {},
   "outputs": [],
   "source": [
    "y_pred"
   ]
  },
  {
   "cell_type": "code",
   "execution_count": null,
   "id": "e0a66fd8",
   "metadata": {},
   "outputs": [],
   "source": [
    "type(X_train.Message)"
   ]
  },
  {
   "cell_type": "code",
   "execution_count": null,
   "id": "b79cb746",
   "metadata": {},
   "outputs": [],
   "source": [
    "l  = [\"I am Ham\",\n",
    "     \" I am not beautiful\"]"
   ]
  },
  {
   "cell_type": "code",
   "execution_count": null,
   "id": "f36b0b08",
   "metadata": {},
   "outputs": [],
   "source": [
    "d = pd.Series('I am giving you my OTP')"
   ]
  },
  {
   "cell_type": "code",
   "execution_count": null,
   "id": "3014e007",
   "metadata": {},
   "outputs": [],
   "source": [
    "d"
   ]
  },
  {
   "cell_type": "code",
   "execution_count": null,
   "id": "e009239a",
   "metadata": {},
   "outputs": [],
   "source": [
    "a = feature_extraction.transform(d)"
   ]
  },
  {
   "cell_type": "code",
   "execution_count": null,
   "id": "0665cd65",
   "metadata": {},
   "outputs": [],
   "source": [
    "X_train.label_tag[2153]"
   ]
  },
  {
   "cell_type": "code",
   "execution_count": null,
   "id": "a50a48ee",
   "metadata": {},
   "outputs": [],
   "source": []
  }
 ],
 "metadata": {
  "kernelspec": {
   "display_name": "Python 3 (ipykernel)",
   "language": "python",
   "name": "python3"
  },
  "language_info": {
   "codemirror_mode": {
    "name": "ipython",
    "version": 3
   },
   "file_extension": ".py",
   "mimetype": "text/x-python",
   "name": "python",
   "nbconvert_exporter": "python",
   "pygments_lexer": "ipython3",
   "version": "3.9.12"
  }
 },
 "nbformat": 4,
 "nbformat_minor": 5
}
