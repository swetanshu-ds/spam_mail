{
 "cells": [
  {
   "cell_type": "markdown",
   "id": "b0ef7150",
   "metadata": {},
   "source": [
    "# Importing Dependencies"
   ]
  },
  {
   "cell_type": "code",
   "execution_count": 1,
   "id": "4b85ae91",
   "metadata": {},
   "outputs": [],
   "source": [
    "import pandas as pd\n",
    "import numpy as np\n",
    "from sklearn.model_selection import train_test_split\n",
    "from sklearn.feature_extraction.text import TfidfVectorizer\n",
    "from sklearn.linear_model import LogisticRegression\n",
    "from sklearn.metrics import accuracy_score"
   ]
  },
  {
   "cell_type": "code",
   "execution_count": 2,
   "id": "1a1cca94",
   "metadata": {},
   "outputs": [],
   "source": [
    "import pandas as pd"
   ]
  },
  {
   "cell_type": "markdown",
   "id": "75124deb",
   "metadata": {},
   "source": [
    "# Data Collection and Pre-Processing"
   ]
  },
  {
   "cell_type": "code",
   "execution_count": 3,
   "id": "fbc41fbe",
   "metadata": {},
   "outputs": [],
   "source": [
    "df = pd.read_csv('mail_data.csv')"
   ]
  },
  {
   "cell_type": "code",
   "execution_count": 4,
   "id": "56227387",
   "metadata": {},
   "outputs": [
    {
     "data": {
      "text/html": [
       "<div>\n",
       "<style scoped>\n",
       "    .dataframe tbody tr th:only-of-type {\n",
       "        vertical-align: middle;\n",
       "    }\n",
       "\n",
       "    .dataframe tbody tr th {\n",
       "        vertical-align: top;\n",
       "    }\n",
       "\n",
       "    .dataframe thead th {\n",
       "        text-align: right;\n",
       "    }\n",
       "</style>\n",
       "<table border=\"1\" class=\"dataframe\">\n",
       "  <thead>\n",
       "    <tr style=\"text-align: right;\">\n",
       "      <th></th>\n",
       "      <th>Category</th>\n",
       "      <th>Message</th>\n",
       "    </tr>\n",
       "  </thead>\n",
       "  <tbody>\n",
       "    <tr>\n",
       "      <th>0</th>\n",
       "      <td>ham</td>\n",
       "      <td>Go until jurong point, crazy.. Available only ...</td>\n",
       "    </tr>\n",
       "    <tr>\n",
       "      <th>1</th>\n",
       "      <td>ham</td>\n",
       "      <td>Ok lar... Joking wif u oni...</td>\n",
       "    </tr>\n",
       "    <tr>\n",
       "      <th>2</th>\n",
       "      <td>spam</td>\n",
       "      <td>Free entry in 2 a wkly comp to win FA Cup fina...</td>\n",
       "    </tr>\n",
       "    <tr>\n",
       "      <th>3</th>\n",
       "      <td>ham</td>\n",
       "      <td>U dun say so early hor... U c already then say...</td>\n",
       "    </tr>\n",
       "    <tr>\n",
       "      <th>4</th>\n",
       "      <td>ham</td>\n",
       "      <td>Nah I don't think he goes to usf, he lives aro...</td>\n",
       "    </tr>\n",
       "  </tbody>\n",
       "</table>\n",
       "</div>"
      ],
      "text/plain": [
       "  Category                                            Message\n",
       "0      ham  Go until jurong point, crazy.. Available only ...\n",
       "1      ham                      Ok lar... Joking wif u oni...\n",
       "2     spam  Free entry in 2 a wkly comp to win FA Cup fina...\n",
       "3      ham  U dun say so early hor... U c already then say...\n",
       "4      ham  Nah I don't think he goes to usf, he lives aro..."
      ]
     },
     "execution_count": 4,
     "metadata": {},
     "output_type": "execute_result"
    }
   ],
   "source": [
    "df.head()"
   ]
  },
  {
   "cell_type": "code",
   "execution_count": 5,
   "id": "2bbb67bf",
   "metadata": {},
   "outputs": [
    {
     "data": {
      "text/plain": [
       "(5572, 2)"
      ]
     },
     "execution_count": 5,
     "metadata": {},
     "output_type": "execute_result"
    }
   ],
   "source": [
    "df.shape"
   ]
  },
  {
   "cell_type": "code",
   "execution_count": 6,
   "id": "1fba0e5c",
   "metadata": {},
   "outputs": [],
   "source": [
    "# Replace the null values with null string"
   ]
  },
  {
   "cell_type": "code",
   "execution_count": 7,
   "id": "1c07b570",
   "metadata": {},
   "outputs": [],
   "source": [
    "df1 = df.where((pd.notnull(df)),'')"
   ]
  },
  {
   "cell_type": "markdown",
   "id": "de07f6ac",
   "metadata": {},
   "source": [
    "# Label Encoding"
   ]
  },
  {
   "cell_type": "code",
   "execution_count": 8,
   "id": "1f9224f9",
   "metadata": {},
   "outputs": [],
   "source": [
    "# Label spam mail as 0 and ham mail as 1"
   ]
  },
  {
   "cell_type": "code",
   "execution_count": 9,
   "id": "8cc1ade0",
   "metadata": {},
   "outputs": [],
   "source": [
    "df1.loc[df1['Category']=='spam','Category']=0"
   ]
  },
  {
   "cell_type": "code",
   "execution_count": 10,
   "id": "4f45096e",
   "metadata": {},
   "outputs": [],
   "source": [
    "df1.loc[df1['Category']=='ham','Category']=1"
   ]
  },
  {
   "cell_type": "code",
   "execution_count": 11,
   "id": "c5efea96",
   "metadata": {},
   "outputs": [
    {
     "data": {
      "text/html": [
       "<div>\n",
       "<style scoped>\n",
       "    .dataframe tbody tr th:only-of-type {\n",
       "        vertical-align: middle;\n",
       "    }\n",
       "\n",
       "    .dataframe tbody tr th {\n",
       "        vertical-align: top;\n",
       "    }\n",
       "\n",
       "    .dataframe thead th {\n",
       "        text-align: right;\n",
       "    }\n",
       "</style>\n",
       "<table border=\"1\" class=\"dataframe\">\n",
       "  <thead>\n",
       "    <tr style=\"text-align: right;\">\n",
       "      <th></th>\n",
       "      <th>Category</th>\n",
       "      <th>Message</th>\n",
       "    </tr>\n",
       "  </thead>\n",
       "  <tbody>\n",
       "    <tr>\n",
       "      <th>0</th>\n",
       "      <td>1</td>\n",
       "      <td>Go until jurong point, crazy.. Available only ...</td>\n",
       "    </tr>\n",
       "    <tr>\n",
       "      <th>1</th>\n",
       "      <td>1</td>\n",
       "      <td>Ok lar... Joking wif u oni...</td>\n",
       "    </tr>\n",
       "    <tr>\n",
       "      <th>2</th>\n",
       "      <td>0</td>\n",
       "      <td>Free entry in 2 a wkly comp to win FA Cup fina...</td>\n",
       "    </tr>\n",
       "    <tr>\n",
       "      <th>3</th>\n",
       "      <td>1</td>\n",
       "      <td>U dun say so early hor... U c already then say...</td>\n",
       "    </tr>\n",
       "    <tr>\n",
       "      <th>4</th>\n",
       "      <td>1</td>\n",
       "      <td>Nah I don't think he goes to usf, he lives aro...</td>\n",
       "    </tr>\n",
       "    <tr>\n",
       "      <th>...</th>\n",
       "      <td>...</td>\n",
       "      <td>...</td>\n",
       "    </tr>\n",
       "    <tr>\n",
       "      <th>5567</th>\n",
       "      <td>0</td>\n",
       "      <td>This is the 2nd time we have tried 2 contact u...</td>\n",
       "    </tr>\n",
       "    <tr>\n",
       "      <th>5568</th>\n",
       "      <td>1</td>\n",
       "      <td>Will ü b going to esplanade fr home?</td>\n",
       "    </tr>\n",
       "    <tr>\n",
       "      <th>5569</th>\n",
       "      <td>1</td>\n",
       "      <td>Pity, * was in mood for that. So...any other s...</td>\n",
       "    </tr>\n",
       "    <tr>\n",
       "      <th>5570</th>\n",
       "      <td>1</td>\n",
       "      <td>The guy did some bitching but I acted like i'd...</td>\n",
       "    </tr>\n",
       "    <tr>\n",
       "      <th>5571</th>\n",
       "      <td>1</td>\n",
       "      <td>Rofl. Its true to its name</td>\n",
       "    </tr>\n",
       "  </tbody>\n",
       "</table>\n",
       "<p>5572 rows × 2 columns</p>\n",
       "</div>"
      ],
      "text/plain": [
       "     Category                                            Message\n",
       "0           1  Go until jurong point, crazy.. Available only ...\n",
       "1           1                      Ok lar... Joking wif u oni...\n",
       "2           0  Free entry in 2 a wkly comp to win FA Cup fina...\n",
       "3           1  U dun say so early hor... U c already then say...\n",
       "4           1  Nah I don't think he goes to usf, he lives aro...\n",
       "...       ...                                                ...\n",
       "5567        0  This is the 2nd time we have tried 2 contact u...\n",
       "5568        1               Will ü b going to esplanade fr home?\n",
       "5569        1  Pity, * was in mood for that. So...any other s...\n",
       "5570        1  The guy did some bitching but I acted like i'd...\n",
       "5571        1                         Rofl. Its true to its name\n",
       "\n",
       "[5572 rows x 2 columns]"
      ]
     },
     "execution_count": 11,
     "metadata": {},
     "output_type": "execute_result"
    }
   ],
   "source": [
    "df1"
   ]
  },
  {
   "cell_type": "code",
   "execution_count": 12,
   "id": "bf8021bf",
   "metadata": {},
   "outputs": [],
   "source": [
    "# Seperating the data as texts and lables"
   ]
  },
  {
   "cell_type": "code",
   "execution_count": 13,
   "id": "ed462fba",
   "metadata": {},
   "outputs": [],
   "source": [
    "x = df1['Message']\n",
    "y = df1['Category']"
   ]
  },
  {
   "cell_type": "markdown",
   "id": "3a1697a8",
   "metadata": {},
   "source": [
    "### Splitting the data into training and testing"
   ]
  },
  {
   "cell_type": "code",
   "execution_count": 14,
   "id": "18a99157",
   "metadata": {},
   "outputs": [],
   "source": [
    "x_train,x_test,y_train,y_test = train_test_split(x,y,test_size = 0.2 ,random_state = 31)"
   ]
  },
  {
   "cell_type": "code",
   "execution_count": 15,
   "id": "820de520",
   "metadata": {},
   "outputs": [
    {
     "name": "stdout",
     "output_type": "stream",
     "text": [
      "(1115,)\n"
     ]
    }
   ],
   "source": [
    "print(x_test.shape)"
   ]
  },
  {
   "cell_type": "code",
   "execution_count": 16,
   "id": "4a20ef32",
   "metadata": {},
   "outputs": [
    {
     "name": "stdout",
     "output_type": "stream",
     "text": [
      "(4457,)\n"
     ]
    }
   ],
   "source": [
    "print(x_train.shape)"
   ]
  },
  {
   "cell_type": "markdown",
   "id": "3e15ed5a",
   "metadata": {},
   "source": [
    "# Feature Extraction"
   ]
  },
  {
   "cell_type": "code",
   "execution_count": 17,
   "id": "831c7b56",
   "metadata": {},
   "outputs": [],
   "source": [
    "# Converting the text data into numerical values \n",
    "                       # or \n",
    "# transform the text data to features vectors that can be used as an input to the Logistic model"
   ]
  },
  {
   "cell_type": "code",
   "execution_count": 18,
   "id": "398f5c47",
   "metadata": {},
   "outputs": [],
   "source": [
    "feature_extraction  = TfidfVectorizer(min_df = 1,stop_words = 'english', lowercase = 'True')"
   ]
  },
  {
   "cell_type": "code",
   "execution_count": 19,
   "id": "09089414",
   "metadata": {},
   "outputs": [],
   "source": [
    "x_train_feature = feature_extraction.fit_transform(x_train)"
   ]
  },
  {
   "cell_type": "code",
   "execution_count": 20,
   "id": "98b71e66",
   "metadata": {},
   "outputs": [],
   "source": [
    "x_test_feature = feature_extraction.transform(x_test)"
   ]
  },
  {
   "cell_type": "code",
   "execution_count": 21,
   "id": "70a6c974",
   "metadata": {},
   "outputs": [
    {
     "name": "stdout",
     "output_type": "stream",
     "text": [
      "  (1, 3951)\t0.4976712597693611\n",
      "  (1, 4388)\t0.5813891955281859\n",
      "  (1, 257)\t0.6436691079449642\n",
      "  (2, 185)\t0.4191148379321832\n",
      "  (2, 6212)\t0.28472765896823343\n",
      "  (2, 7020)\t0.1948835981509337\n",
      "  (2, 6685)\t0.341364890568695\n",
      "  (2, 5632)\t0.3535369166554257\n",
      "  (2, 1949)\t0.2687613570464984\n",
      "  (2, 4234)\t0.24858252612965231\n",
      "  (2, 4119)\t0.30460895084551326\n",
      "  (2, 830)\t0.3535369166554257\n",
      "  (2, 5843)\t0.3346252416542836\n",
      "  (3, 3508)\t0.22980497747167994\n",
      "  (3, 1838)\t0.22980497747167994\n",
      "  (3, 7091)\t0.22980497747167994\n",
      "  (3, 4502)\t0.20266098663791918\n",
      "  (3, 4694)\t0.15882120365558217\n",
      "  (3, 1930)\t0.22980497747167994\n",
      "  (3, 3690)\t0.2218435106682677\n",
      "  (3, 1610)\t0.1834784626075706\n",
      "  (3, 6025)\t0.20635640547487757\n",
      "  (3, 7038)\t0.15954006309280588\n",
      "  (3, 6623)\t0.22980497747167994\n",
      "  (3, 1108)\t0.17730306919134944\n",
      "  :\t:\n",
      "  (4454, 6600)\t0.23697223695873515\n",
      "  (4455, 230)\t0.3225747483999194\n",
      "  (4455, 1436)\t0.29690201196502575\n",
      "  (4455, 1069)\t0.2629645003991015\n",
      "  (4455, 6)\t0.2668668357544048\n",
      "  (4455, 409)\t0.22902698883317724\n",
      "  (4455, 18)\t0.2668668357544048\n",
      "  (4455, 307)\t0.22482952897183964\n",
      "  (4455, 1)\t0.2337616722401067\n",
      "  (4455, 12)\t0.2562116874248217\n",
      "  (4455, 1577)\t0.25324707125776474\n",
      "  (4455, 1390)\t0.24119409931951116\n",
      "  (4455, 5461)\t0.22757433482287115\n",
      "  (4455, 5292)\t0.19089201740591538\n",
      "  (4455, 7369)\t0.18883382517425795\n",
      "  (4455, 7024)\t0.2005037747793071\n",
      "  (4455, 1108)\t0.2372917639642079\n",
      "  (4455, 4447)\t0.17381623706894747\n",
      "  (4456, 4267)\t0.41404856042110283\n",
      "  (4456, 5258)\t0.4610974875278923\n",
      "  (4456, 6538)\t0.37172829333399765\n",
      "  (4456, 1881)\t0.31589347163696585\n",
      "  (4456, 4926)\t0.3530445948681294\n",
      "  (4456, 5067)\t0.29663235165156565\n",
      "  (4456, 2885)\t0.40663380222120815\n"
     ]
    }
   ],
   "source": [
    "print(x_train_feature)"
   ]
  },
  {
   "cell_type": "code",
   "execution_count": 22,
   "id": "11c74436",
   "metadata": {},
   "outputs": [
    {
     "name": "stdout",
     "output_type": "stream",
     "text": [
      "  (0, 6774)\t0.3553198005108047\n",
      "  (0, 4388)\t0.42418962886213835\n",
      "  (0, 4163)\t0.32254279786812723\n",
      "  (0, 3948)\t0.43373000914055804\n",
      "  (0, 3204)\t0.32335762894994097\n",
      "  (0, 3131)\t0.5450644591651223\n",
      "  (1, 7386)\t0.22126735228897162\n",
      "  (1, 5834)\t0.229806505073374\n",
      "  (1, 5674)\t0.5295817546652275\n",
      "  (1, 4942)\t0.5171919238067024\n",
      "  (1, 2580)\t0.5918491430354617\n",
      "  (2, 4801)\t0.36794888787162455\n",
      "  (2, 4033)\t0.38558566729489685\n",
      "  (2, 3760)\t0.6751750171385019\n",
      "  (2, 2750)\t0.5099764752641118\n",
      "  (3, 5071)\t0.4700909360646816\n",
      "  (3, 4238)\t0.4534913701940281\n",
      "  (3, 1317)\t0.6115803742958915\n",
      "  (3, 777)\t0.44646336329588315\n",
      "  (4, 7481)\t0.2726692294436187\n",
      "  (4, 7241)\t0.4099295805675901\n",
      "  (4, 7082)\t0.5591003478540084\n",
      "  (4, 4796)\t0.2720262302476369\n",
      "  (4, 4071)\t0.3421914903724247\n",
      "  (4, 3863)\t0.3850813347470535\n",
      "  :\t:\n",
      "  (1112, 6027)\t0.8762331911092707\n",
      "  (1112, 4151)\t0.1692130203687933\n",
      "  (1112, 4076)\t0.20055581579911422\n",
      "  (1112, 3957)\t0.20055581579911422\n",
      "  (1112, 2276)\t0.1802672053322346\n",
      "  (1113, 7042)\t0.37407226380906894\n",
      "  (1113, 6523)\t0.3887675633820155\n",
      "  (1113, 4623)\t0.45869361752046767\n",
      "  (1113, 3337)\t0.2944795323433068\n",
      "  (1113, 1329)\t0.4094794248450733\n",
      "  (1113, 1069)\t0.362673703911378\n",
      "  (1113, 824)\t0.3355682918682472\n",
      "  (1114, 7432)\t0.1997734986557403\n",
      "  (1114, 7116)\t0.3245088199949859\n",
      "  (1114, 6890)\t0.2861786474620436\n",
      "  (1114, 6722)\t0.29139696788034863\n",
      "  (1114, 5699)\t0.26161302781175655\n",
      "  (1114, 4641)\t0.25909090416727093\n",
      "  (1114, 3207)\t0.22328285527881422\n",
      "  (1114, 3071)\t0.2544880193488377\n",
      "  (1114, 2054)\t0.2320031608724983\n",
      "  (1114, 1987)\t0.22963398988087766\n",
      "  (1114, 1937)\t0.2737336817148946\n",
      "  (1114, 1920)\t0.3245088199949859\n",
      "  (1114, 1788)\t0.3885768478788556\n"
     ]
    }
   ],
   "source": [
    "print(x_test_feature)"
   ]
  },
  {
   "cell_type": "code",
   "execution_count": 23,
   "id": "23c78d3a",
   "metadata": {},
   "outputs": [],
   "source": [
    "# Convert y_train and y_test as value as integers"
   ]
  },
  {
   "cell_type": "code",
   "execution_count": 24,
   "id": "fbf7d621",
   "metadata": {},
   "outputs": [],
   "source": [
    "y_train = y_train.astype('int')\n",
    "y_test = y_test.astype('int')"
   ]
  },
  {
   "cell_type": "code",
   "execution_count": 25,
   "id": "ed4c02d1",
   "metadata": {},
   "outputs": [
    {
     "data": {
      "text/plain": [
       "4292    1\n",
       "450     1\n",
       "4104    0\n",
       "4222    1\n",
       "407     1\n",
       "       ..\n",
       "826     1\n",
       "3735    1\n",
       "2942    1\n",
       "2064    0\n",
       "4818    1\n",
       "Name: Category, Length: 4457, dtype: int32"
      ]
     },
     "execution_count": 25,
     "metadata": {},
     "output_type": "execute_result"
    }
   ],
   "source": [
    "y_train"
   ]
  },
  {
   "cell_type": "markdown",
   "id": "bc14aef7",
   "metadata": {},
   "source": [
    "# Training The model\n"
   ]
  },
  {
   "cell_type": "markdown",
   "id": "52f78d04",
   "metadata": {},
   "source": [
    "# Logistic Regression"
   ]
  },
  {
   "cell_type": "code",
   "execution_count": 26,
   "id": "64851d25",
   "metadata": {},
   "outputs": [],
   "source": [
    "model = LogisticRegression()"
   ]
  },
  {
   "cell_type": "code",
   "execution_count": 27,
   "id": "9853e6b4",
   "metadata": {},
   "outputs": [],
   "source": [
    "# training the logistic regression model with the training data"
   ]
  },
  {
   "cell_type": "code",
   "execution_count": 28,
   "id": "d05b8f34",
   "metadata": {},
   "outputs": [
    {
     "data": {
      "text/plain": [
       "LogisticRegression()"
      ]
     },
     "execution_count": 28,
     "metadata": {},
     "output_type": "execute_result"
    }
   ],
   "source": [
    "model.fit(x_train_feature,y_train)"
   ]
  },
  {
   "cell_type": "markdown",
   "id": "0bda66ad",
   "metadata": {},
   "source": [
    "# Evaluating the trained model"
   ]
  },
  {
   "cell_type": "code",
   "execution_count": 29,
   "id": "b8c35db6",
   "metadata": {},
   "outputs": [],
   "source": [
    "# prediction on training data"
   ]
  },
  {
   "cell_type": "code",
   "execution_count": 30,
   "id": "b1c6defa",
   "metadata": {},
   "outputs": [],
   "source": [
    "prediction = model.predict(x_train_feature)"
   ]
  },
  {
   "cell_type": "code",
   "execution_count": 31,
   "id": "06be3aab",
   "metadata": {},
   "outputs": [],
   "source": [
    "accuracy = accuracy_score(y_train,prediction)"
   ]
  },
  {
   "cell_type": "code",
   "execution_count": 32,
   "id": "480e1956",
   "metadata": {},
   "outputs": [
    {
     "name": "stdout",
     "output_type": "stream",
     "text": [
      "Accuracy score of the model is: 0.9692618353152345\n"
     ]
    }
   ],
   "source": [
    "print('Accuracy score of the model is:',accuracy)"
   ]
  },
  {
   "cell_type": "code",
   "execution_count": 33,
   "id": "4bf42647",
   "metadata": {},
   "outputs": [],
   "source": [
    "# prediction on test data"
   ]
  },
  {
   "cell_type": "code",
   "execution_count": 34,
   "id": "5c3d68fe",
   "metadata": {},
   "outputs": [],
   "source": [
    "prediction = model.predict(x_test_feature)"
   ]
  },
  {
   "cell_type": "code",
   "execution_count": 35,
   "id": "37db55e7",
   "metadata": {},
   "outputs": [],
   "source": [
    "accuracy = accuracy_score(y_test,prediction)"
   ]
  },
  {
   "cell_type": "code",
   "execution_count": 36,
   "id": "5f1db830",
   "metadata": {},
   "outputs": [
    {
     "data": {
      "text/plain": [
       "0.9533632286995516"
      ]
     },
     "execution_count": 36,
     "metadata": {},
     "output_type": "execute_result"
    }
   ],
   "source": [
    "accuracy"
   ]
  },
  {
   "cell_type": "markdown",
   "id": "064ddd7f",
   "metadata": {},
   "source": [
    "# Building a predictive system"
   ]
  },
  {
   "cell_type": "code",
   "execution_count": 37,
   "id": "547d5f4d",
   "metadata": {},
   "outputs": [],
   "source": [
    "input_mail  = [\"Had your mobile 11 months or more? U R entitled to Update to the latest colour mobiles with camera for Free! Call The Mobile Update Co FREE on 08002986030\"]"
   ]
  },
  {
   "cell_type": "code",
   "execution_count": 38,
   "id": "e8c97341",
   "metadata": {},
   "outputs": [
    {
     "name": "stdout",
     "output_type": "stream",
     "text": [
      "[0]\n"
     ]
    }
   ],
   "source": [
    "# Convert ext to feature vectors\n",
    "\n",
    "input_data_features = feature_extraction.transform(input_mail)\n",
    "\n",
    "# Make predictions\n",
    "\n",
    "predictions = model.predict(input_data_features)\n",
    "print(predictions)"
   ]
  },
  {
   "cell_type": "code",
   "execution_count": 39,
   "id": "873b18ee",
   "metadata": {},
   "outputs": [
    {
     "name": "stdout",
     "output_type": "stream",
     "text": [
      "Spam Mail\n"
     ]
    }
   ],
   "source": [
    "if predictions[0]==1:\n",
    "    print(\"Ham Mail\")\n",
    "else:\n",
    "    print(\"Spam Mail\")"
   ]
  },
  {
   "cell_type": "code",
   "execution_count": null,
   "id": "e0522f7e",
   "metadata": {},
   "outputs": [],
   "source": []
  },
  {
   "cell_type": "code",
   "execution_count": null,
   "id": "3b05e455",
   "metadata": {},
   "outputs": [],
   "source": []
  },
  {
   "cell_type": "code",
   "execution_count": null,
   "id": "b03fcaaa",
   "metadata": {},
   "outputs": [],
   "source": []
  },
  {
   "cell_type": "code",
   "execution_count": null,
   "id": "5abcdc87",
   "metadata": {},
   "outputs": [],
   "source": []
  },
  {
   "cell_type": "code",
   "execution_count": null,
   "id": "e37382f1",
   "metadata": {},
   "outputs": [],
   "source": []
  },
  {
   "cell_type": "code",
   "execution_count": null,
   "id": "0ad50922",
   "metadata": {},
   "outputs": [],
   "source": []
  },
  {
   "cell_type": "code",
   "execution_count": null,
   "id": "4ccbeda7",
   "metadata": {},
   "outputs": [],
   "source": []
  },
  {
   "cell_type": "code",
   "execution_count": null,
   "id": "198747a0",
   "metadata": {},
   "outputs": [],
   "source": []
  },
  {
   "cell_type": "code",
   "execution_count": null,
   "id": "a0f0a493",
   "metadata": {},
   "outputs": [],
   "source": []
  },
  {
   "cell_type": "code",
   "execution_count": null,
   "id": "a38b72bc",
   "metadata": {},
   "outputs": [],
   "source": []
  },
  {
   "cell_type": "code",
   "execution_count": null,
   "id": "0eacf8ed",
   "metadata": {},
   "outputs": [],
   "source": []
  },
  {
   "cell_type": "code",
   "execution_count": null,
   "id": "ed698b1f",
   "metadata": {},
   "outputs": [],
   "source": []
  },
  {
   "cell_type": "code",
   "execution_count": null,
   "id": "14f28d63",
   "metadata": {},
   "outputs": [],
   "source": []
  },
  {
   "cell_type": "code",
   "execution_count": null,
   "id": "8b57ec4f",
   "metadata": {},
   "outputs": [],
   "source": []
  },
  {
   "cell_type": "code",
   "execution_count": null,
   "id": "c50e2aa2",
   "metadata": {},
   "outputs": [],
   "source": []
  },
  {
   "cell_type": "code",
   "execution_count": null,
   "id": "6c3eb688",
   "metadata": {},
   "outputs": [],
   "source": []
  },
  {
   "cell_type": "code",
   "execution_count": null,
   "id": "348406ee",
   "metadata": {},
   "outputs": [],
   "source": []
  },
  {
   "cell_type": "code",
   "execution_count": null,
   "id": "1e058b6f",
   "metadata": {},
   "outputs": [],
   "source": []
  },
  {
   "cell_type": "code",
   "execution_count": null,
   "id": "ea6add28",
   "metadata": {},
   "outputs": [],
   "source": []
  },
  {
   "cell_type": "code",
   "execution_count": null,
   "id": "2888bdba",
   "metadata": {},
   "outputs": [],
   "source": []
  }
 ],
 "metadata": {
  "kernelspec": {
   "display_name": "Python 3 (ipykernel)",
   "language": "python",
   "name": "python3"
  },
  "language_info": {
   "codemirror_mode": {
    "name": "ipython",
    "version": 3
   },
   "file_extension": ".py",
   "mimetype": "text/x-python",
   "name": "python",
   "nbconvert_exporter": "python",
   "pygments_lexer": "ipython3",
   "version": "3.9.12"
  }
 },
 "nbformat": 4,
 "nbformat_minor": 5
}
