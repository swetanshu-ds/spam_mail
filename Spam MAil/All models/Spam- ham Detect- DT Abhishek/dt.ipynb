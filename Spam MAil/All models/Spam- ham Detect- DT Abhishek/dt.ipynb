{
 "cells": [
  {
   "cell_type": "code",
   "execution_count": 71,
   "id": "a9f0d555",
   "metadata": {},
   "outputs": [],
   "source": [
    "import pandas as pd\n",
    "import numpy as np\n",
    "import matplotlib.pyplot as plt\n",
    "from sklearn.tree import DecisionTreeClassifier\n",
    "from sklearn.feature_extraction.text import CountVectorizer\n",
    "from sklearn import tree\n",
    "from sklearn.model_selection import train_test_split\n",
    "from sklearn.metrics import accuracy_score, precision_score, recall_score, f1_score\n",
    "%matplotlib inline"
   ]
  },
  {
   "cell_type": "code",
   "execution_count": 72,
   "id": "86414fa0",
   "metadata": {},
   "outputs": [],
   "source": [
    "df = pd.read_csv(\"mail_data.csv\")"
   ]
  },
  {
   "cell_type": "code",
   "execution_count": 73,
   "id": "843f094f",
   "metadata": {},
   "outputs": [
    {
     "data": {
      "text/html": [
       "<div>\n",
       "<style scoped>\n",
       "    .dataframe tbody tr th:only-of-type {\n",
       "        vertical-align: middle;\n",
       "    }\n",
       "\n",
       "    .dataframe tbody tr th {\n",
       "        vertical-align: top;\n",
       "    }\n",
       "\n",
       "    .dataframe thead th {\n",
       "        text-align: right;\n",
       "    }\n",
       "</style>\n",
       "<table border=\"1\" class=\"dataframe\">\n",
       "  <thead>\n",
       "    <tr style=\"text-align: right;\">\n",
       "      <th></th>\n",
       "      <th>Category</th>\n",
       "      <th>Message</th>\n",
       "    </tr>\n",
       "  </thead>\n",
       "  <tbody>\n",
       "    <tr>\n",
       "      <th>0</th>\n",
       "      <td>ham</td>\n",
       "      <td>Go until jurong point, crazy.. Available only ...</td>\n",
       "    </tr>\n",
       "    <tr>\n",
       "      <th>1</th>\n",
       "      <td>ham</td>\n",
       "      <td>Ok lar... Joking wif u oni...</td>\n",
       "    </tr>\n",
       "    <tr>\n",
       "      <th>2</th>\n",
       "      <td>spam</td>\n",
       "      <td>Free entry in 2 a wkly comp to win FA Cup fina...</td>\n",
       "    </tr>\n",
       "    <tr>\n",
       "      <th>3</th>\n",
       "      <td>ham</td>\n",
       "      <td>U dun say so early hor... U c already then say...</td>\n",
       "    </tr>\n",
       "    <tr>\n",
       "      <th>4</th>\n",
       "      <td>ham</td>\n",
       "      <td>Nah I don't think he goes to usf, he lives aro...</td>\n",
       "    </tr>\n",
       "  </tbody>\n",
       "</table>\n",
       "</div>"
      ],
      "text/plain": [
       "  Category                                            Message\n",
       "0      ham  Go until jurong point, crazy.. Available only ...\n",
       "1      ham                      Ok lar... Joking wif u oni...\n",
       "2     spam  Free entry in 2 a wkly comp to win FA Cup fina...\n",
       "3      ham  U dun say so early hor... U c already then say...\n",
       "4      ham  Nah I don't think he goes to usf, he lives aro..."
      ]
     },
     "execution_count": 73,
     "metadata": {},
     "output_type": "execute_result"
    }
   ],
   "source": [
    "df.head()"
   ]
  },
  {
   "cell_type": "code",
   "execution_count": 74,
   "id": "f000ff50",
   "metadata": {},
   "outputs": [],
   "source": [
    "df['label_no'] = df.Category.map({\"ham\":0,\"spam\":1})"
   ]
  },
  {
   "cell_type": "code",
   "execution_count": 75,
   "id": "46d03927",
   "metadata": {},
   "outputs": [
    {
     "data": {
      "text/html": [
       "<div>\n",
       "<style scoped>\n",
       "    .dataframe tbody tr th:only-of-type {\n",
       "        vertical-align: middle;\n",
       "    }\n",
       "\n",
       "    .dataframe tbody tr th {\n",
       "        vertical-align: top;\n",
       "    }\n",
       "\n",
       "    .dataframe thead th {\n",
       "        text-align: right;\n",
       "    }\n",
       "</style>\n",
       "<table border=\"1\" class=\"dataframe\">\n",
       "  <thead>\n",
       "    <tr style=\"text-align: right;\">\n",
       "      <th></th>\n",
       "      <th>Category</th>\n",
       "      <th>Message</th>\n",
       "      <th>label_no</th>\n",
       "    </tr>\n",
       "  </thead>\n",
       "  <tbody>\n",
       "    <tr>\n",
       "      <th>0</th>\n",
       "      <td>ham</td>\n",
       "      <td>Go until jurong point, crazy.. Available only ...</td>\n",
       "      <td>0</td>\n",
       "    </tr>\n",
       "    <tr>\n",
       "      <th>1</th>\n",
       "      <td>ham</td>\n",
       "      <td>Ok lar... Joking wif u oni...</td>\n",
       "      <td>0</td>\n",
       "    </tr>\n",
       "    <tr>\n",
       "      <th>2</th>\n",
       "      <td>spam</td>\n",
       "      <td>Free entry in 2 a wkly comp to win FA Cup fina...</td>\n",
       "      <td>1</td>\n",
       "    </tr>\n",
       "    <tr>\n",
       "      <th>3</th>\n",
       "      <td>ham</td>\n",
       "      <td>U dun say so early hor... U c already then say...</td>\n",
       "      <td>0</td>\n",
       "    </tr>\n",
       "    <tr>\n",
       "      <th>4</th>\n",
       "      <td>ham</td>\n",
       "      <td>Nah I don't think he goes to usf, he lives aro...</td>\n",
       "      <td>0</td>\n",
       "    </tr>\n",
       "  </tbody>\n",
       "</table>\n",
       "</div>"
      ],
      "text/plain": [
       "  Category                                            Message  label_no\n",
       "0      ham  Go until jurong point, crazy.. Available only ...         0\n",
       "1      ham                      Ok lar... Joking wif u oni...         0\n",
       "2     spam  Free entry in 2 a wkly comp to win FA Cup fina...         1\n",
       "3      ham  U dun say so early hor... U c already then say...         0\n",
       "4      ham  Nah I don't think he goes to usf, he lives aro...         0"
      ]
     },
     "execution_count": 75,
     "metadata": {},
     "output_type": "execute_result"
    }
   ],
   "source": [
    "df.head()"
   ]
  },
  {
   "cell_type": "code",
   "execution_count": 77,
   "id": "eb66f8ac",
   "metadata": {},
   "outputs": [],
   "source": [
    "x = df[\"Message\"]\n",
    "y = df[\"label_no\"]"
   ]
  },
  {
   "cell_type": "code",
   "execution_count": 78,
   "id": "1aae6b4d",
   "metadata": {},
   "outputs": [],
   "source": [
    "x_train,x_test,y_train,y_test = train_test_split(x,y,test_size = 0.3,random_state = 21)"
   ]
  },
  {
   "cell_type": "code",
   "execution_count": 79,
   "id": "35e087b6",
   "metadata": {},
   "outputs": [],
   "source": [
    "count = CountVectorizer()"
   ]
  },
  {
   "cell_type": "code",
   "execution_count": 80,
   "id": "6423712b",
   "metadata": {},
   "outputs": [],
   "source": [
    "training_data = count.fit_transform(x_train)"
   ]
  },
  {
   "cell_type": "code",
   "execution_count": 81,
   "id": "a01dc3f7",
   "metadata": {},
   "outputs": [
    {
     "name": "stdout",
     "output_type": "stream",
     "text": [
      "  (0, 2967)\t1\n",
      "  (0, 4704)\t1\n",
      "  (0, 363)\t1\n",
      "  (1, 4607)\t1\n",
      "  (1, 6386)\t1\n",
      "  (1, 3950)\t1\n",
      "  (1, 848)\t1\n",
      "  (1, 1343)\t1\n",
      "  (1, 2377)\t1\n",
      "  (2, 4129)\t1\n",
      "  (2, 950)\t1\n",
      "  (2, 4753)\t1\n",
      "  (2, 1453)\t1\n",
      "  (2, 3522)\t1\n",
      "  (2, 5749)\t1\n",
      "  (2, 3139)\t1\n",
      "  (2, 4306)\t1\n",
      "  (2, 5001)\t1\n",
      "  (3, 1096)\t1\n",
      "  (3, 3949)\t1\n",
      "  (3, 7227)\t2\n",
      "  (3, 7051)\t1\n",
      "  (3, 6622)\t1\n",
      "  (3, 5270)\t1\n",
      "  (4, 3139)\t1\n",
      "  :\t:\n",
      "  (3897, 3372)\t1\n",
      "  (3897, 1265)\t1\n",
      "  (3897, 983)\t1\n",
      "  (3897, 1005)\t1\n",
      "  (3897, 6669)\t1\n",
      "  (3897, 3270)\t1\n",
      "  (3898, 6395)\t1\n",
      "  (3898, 1029)\t1\n",
      "  (3898, 3637)\t1\n",
      "  (3898, 6735)\t1\n",
      "  (3898, 6091)\t1\n",
      "  (3898, 7200)\t1\n",
      "  (3898, 4377)\t1\n",
      "  (3898, 6538)\t1\n",
      "  (3898, 6947)\t1\n",
      "  (3898, 3926)\t1\n",
      "  (3898, 3086)\t1\n",
      "  (3898, 2228)\t1\n",
      "  (3898, 4287)\t1\n",
      "  (3898, 4911)\t1\n",
      "  (3898, 2299)\t1\n",
      "  (3899, 7227)\t1\n",
      "  (3899, 6978)\t1\n",
      "  (3899, 7076)\t1\n",
      "  (3899, 7109)\t1\n"
     ]
    }
   ],
   "source": [
    "print(training_data)"
   ]
  },
  {
   "cell_type": "code",
   "execution_count": 82,
   "id": "45eefd33",
   "metadata": {},
   "outputs": [],
   "source": [
    "testing_data = count.transform(x_test)"
   ]
  },
  {
   "cell_type": "code",
   "execution_count": 83,
   "id": "27123a12",
   "metadata": {},
   "outputs": [
    {
     "name": "stdout",
     "output_type": "stream",
     "text": [
      "  (0, 295)\t1\n",
      "  (0, 361)\t1\n",
      "  (0, 419)\t1\n",
      "  (0, 473)\t1\n",
      "  (0, 508)\t1\n",
      "  (0, 545)\t1\n",
      "  (0, 571)\t1\n",
      "  (0, 882)\t1\n",
      "  (0, 2034)\t1\n",
      "  (0, 2813)\t1\n",
      "  (0, 2978)\t1\n",
      "  (0, 3409)\t1\n",
      "  (0, 3964)\t1\n",
      "  (0, 4310)\t1\n",
      "  (0, 4377)\t1\n",
      "  (0, 4417)\t1\n",
      "  (0, 4848)\t1\n",
      "  (0, 5870)\t1\n",
      "  (0, 5881)\t1\n",
      "  (0, 6146)\t1\n",
      "  (0, 6753)\t6\n",
      "  (0, 7111)\t1\n",
      "  (0, 7126)\t1\n",
      "  (0, 7227)\t1\n",
      "  (1, 882)\t1\n",
      "  :\t:\n",
      "  (1669, 7021)\t1\n",
      "  (1669, 7176)\t1\n",
      "  (1670, 848)\t1\n",
      "  (1670, 2157)\t1\n",
      "  (1670, 2379)\t1\n",
      "  (1670, 3409)\t1\n",
      "  (1670, 3770)\t1\n",
      "  (1670, 3823)\t1\n",
      "  (1670, 4137)\t1\n",
      "  (1670, 4335)\t1\n",
      "  (1670, 4528)\t1\n",
      "  (1670, 4541)\t1\n",
      "  (1670, 4599)\t1\n",
      "  (1670, 5505)\t1\n",
      "  (1670, 5947)\t1\n",
      "  (1670, 6091)\t1\n",
      "  (1670, 6644)\t1\n",
      "  (1670, 6753)\t1\n",
      "  (1670, 6943)\t1\n",
      "  (1671, 2755)\t1\n",
      "  (1671, 3053)\t1\n",
      "  (1671, 3428)\t1\n",
      "  (1671, 3983)\t1\n",
      "  (1671, 4108)\t1\n",
      "  (1671, 6057)\t1\n"
     ]
    }
   ],
   "source": [
    "print(testing_data)"
   ]
  },
  {
   "cell_type": "code",
   "execution_count": 84,
   "id": "e52188f3",
   "metadata": {},
   "outputs": [],
   "source": [
    "dt_model = DecisionTreeClassifier(criterion = \"entropy\")"
   ]
  },
  {
   "cell_type": "code",
   "execution_count": 85,
   "id": "c3fc4ef8",
   "metadata": {},
   "outputs": [
    {
     "data": {
      "text/plain": [
       "DecisionTreeClassifier(criterion='entropy')"
      ]
     },
     "execution_count": 85,
     "metadata": {},
     "output_type": "execute_result"
    }
   ],
   "source": [
    "dt_model.fit(training_data,y_train)"
   ]
  },
  {
   "cell_type": "code",
   "execution_count": 86,
   "id": "6a54c4d3",
   "metadata": {},
   "outputs": [],
   "source": [
    "dt_pred = dt_model.predict(testing_data)"
   ]
  },
  {
   "cell_type": "code",
   "execution_count": 87,
   "id": "fd66a3fb",
   "metadata": {},
   "outputs": [
    {
     "data": {
      "text/plain": [
       "array([0, 0, 0, ..., 0, 0, 0], dtype=int64)"
      ]
     },
     "execution_count": 87,
     "metadata": {},
     "output_type": "execute_result"
    }
   ],
   "source": [
    "dt_pred"
   ]
  },
  {
   "cell_type": "code",
   "execution_count": 88,
   "id": "8123804a",
   "metadata": {},
   "outputs": [],
   "source": [
    "def print_metrics(y_true, preds, model_name=None):\n",
    "    print('Accuracy score for ' + model_name + ' :' , format(accuracy_score(y_true, preds)))\n",
    "    print('Precision score ' + model_name + ' :', format(precision_score(y_true, preds)))\n",
    "    print('Recall score ' + model_name + ' :', format(recall_score(y_true, preds)))\n",
    "    print('F1 score ' + model_name + ' :', format(f1_score(y_true, preds)))"
   ]
  },
  {
   "cell_type": "code",
   "execution_count": 89,
   "id": "4499ea45",
   "metadata": {},
   "outputs": [
    {
     "name": "stdout",
     "output_type": "stream",
     "text": [
      "Accuracy score for DT : 0.9647129186602871\n",
      "Precision score DT : 0.8857142857142857\n",
      "Recall score DT : 0.8416289592760181\n",
      "F1 score DT : 0.8631090487238979\n"
     ]
    }
   ],
   "source": [
    "print_metrics(y_test,dt_pred,'DT')"
   ]
  },
  {
   "cell_type": "code",
   "execution_count": 90,
   "id": "8571f8d6",
   "metadata": {},
   "outputs": [],
   "source": [
    "def give_input(test_message):\n",
    "    count_vector = CountVectorizer()\n",
    "    training_data = count_vector.fit_transform(x_train)\n",
    "    testing_data = count_vector.transform(pd.Series(test_message))\n",
    "    return dt_model.predict(testing_data)"
   ]
  },
  {
   "cell_type": "code",
   "execution_count": 91,
   "id": "1328664f",
   "metadata": {},
   "outputs": [
    {
     "data": {
      "text/plain": [
       "array([0], dtype=int64)"
      ]
     },
     "execution_count": 91,
     "metadata": {},
     "output_type": "execute_result"
    }
   ],
   "source": [
    "give_input(df.Message[5570])"
   ]
  },
  {
   "cell_type": "code",
   "execution_count": 92,
   "id": "58b2b751",
   "metadata": {},
   "outputs": [
    {
     "data": {
      "text/plain": [
       "0"
      ]
     },
     "execution_count": 92,
     "metadata": {},
     "output_type": "execute_result"
    }
   ],
   "source": [
    "df.label_no[5570]"
   ]
  },
  {
   "cell_type": "code",
   "execution_count": null,
   "id": "456bff5e",
   "metadata": {},
   "outputs": [],
   "source": []
  },
  {
   "cell_type": "code",
   "execution_count": null,
   "id": "ff0e0374",
   "metadata": {},
   "outputs": [],
   "source": []
  },
  {
   "cell_type": "code",
   "execution_count": null,
   "id": "35a81ee4",
   "metadata": {},
   "outputs": [],
   "source": []
  },
  {
   "cell_type": "code",
   "execution_count": null,
   "id": "48aa7237",
   "metadata": {},
   "outputs": [],
   "source": []
  },
  {
   "cell_type": "code",
   "execution_count": null,
   "id": "7181e440",
   "metadata": {},
   "outputs": [],
   "source": []
  },
  {
   "cell_type": "code",
   "execution_count": null,
   "id": "838cb3e3",
   "metadata": {},
   "outputs": [],
   "source": []
  },
  {
   "cell_type": "code",
   "execution_count": null,
   "id": "0d654a3b",
   "metadata": {},
   "outputs": [],
   "source": []
  }
 ],
 "metadata": {
  "kernelspec": {
   "display_name": "Python 3 (ipykernel)",
   "language": "python",
   "name": "python3"
  },
  "language_info": {
   "codemirror_mode": {
    "name": "ipython",
    "version": 3
   },
   "file_extension": ".py",
   "mimetype": "text/x-python",
   "name": "python",
   "nbconvert_exporter": "python",
   "pygments_lexer": "ipython3",
   "version": "3.9.12"
  }
 },
 "nbformat": 4,
 "nbformat_minor": 5
}
