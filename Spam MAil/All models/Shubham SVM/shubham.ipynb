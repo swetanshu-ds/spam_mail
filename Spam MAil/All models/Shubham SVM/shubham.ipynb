{
 "cells": [
  {
   "cell_type": "code",
   "execution_count": 1,
   "id": "37eae238",
   "metadata": {},
   "outputs": [],
   "source": [
    "import pandas as pd\n",
    "import numpy as np"
   ]
  },
  {
   "cell_type": "code",
   "execution_count": 2,
   "id": "a3ce1659",
   "metadata": {},
   "outputs": [],
   "source": [
    "df = pd.read_csv(\"mail_data.csv\")"
   ]
  },
  {
   "cell_type": "code",
   "execution_count": 3,
   "id": "ad584d17",
   "metadata": {},
   "outputs": [
    {
     "data": {
      "text/html": [
       "<div>\n",
       "<style scoped>\n",
       "    .dataframe tbody tr th:only-of-type {\n",
       "        vertical-align: middle;\n",
       "    }\n",
       "\n",
       "    .dataframe tbody tr th {\n",
       "        vertical-align: top;\n",
       "    }\n",
       "\n",
       "    .dataframe thead th {\n",
       "        text-align: right;\n",
       "    }\n",
       "</style>\n",
       "<table border=\"1\" class=\"dataframe\">\n",
       "  <thead>\n",
       "    <tr style=\"text-align: right;\">\n",
       "      <th></th>\n",
       "      <th>Category</th>\n",
       "      <th>Message</th>\n",
       "    </tr>\n",
       "  </thead>\n",
       "  <tbody>\n",
       "    <tr>\n",
       "      <th>0</th>\n",
       "      <td>ham</td>\n",
       "      <td>Go until jurong point, crazy.. Available only ...</td>\n",
       "    </tr>\n",
       "    <tr>\n",
       "      <th>1</th>\n",
       "      <td>ham</td>\n",
       "      <td>Ok lar... Joking wif u oni...</td>\n",
       "    </tr>\n",
       "    <tr>\n",
       "      <th>2</th>\n",
       "      <td>spam</td>\n",
       "      <td>Free entry in 2 a wkly comp to win FA Cup fina...</td>\n",
       "    </tr>\n",
       "    <tr>\n",
       "      <th>3</th>\n",
       "      <td>ham</td>\n",
       "      <td>U dun say so early hor... U c already then say...</td>\n",
       "    </tr>\n",
       "    <tr>\n",
       "      <th>4</th>\n",
       "      <td>ham</td>\n",
       "      <td>Nah I don't think he goes to usf, he lives aro...</td>\n",
       "    </tr>\n",
       "  </tbody>\n",
       "</table>\n",
       "</div>"
      ],
      "text/plain": [
       "  Category                                            Message\n",
       "0      ham  Go until jurong point, crazy.. Available only ...\n",
       "1      ham                      Ok lar... Joking wif u oni...\n",
       "2     spam  Free entry in 2 a wkly comp to win FA Cup fina...\n",
       "3      ham  U dun say so early hor... U c already then say...\n",
       "4      ham  Nah I don't think he goes to usf, he lives aro..."
      ]
     },
     "execution_count": 3,
     "metadata": {},
     "output_type": "execute_result"
    }
   ],
   "source": [
    "df.head()"
   ]
  },
  {
   "cell_type": "code",
   "execution_count": 4,
   "id": "1f30ae9b",
   "metadata": {},
   "outputs": [],
   "source": [
    "df['Category'] = df.Category.map({'ham':0,'spam':1})"
   ]
  },
  {
   "cell_type": "code",
   "execution_count": 5,
   "id": "6b70f750",
   "metadata": {},
   "outputs": [
    {
     "data": {
      "text/html": [
       "<div>\n",
       "<style scoped>\n",
       "    .dataframe tbody tr th:only-of-type {\n",
       "        vertical-align: middle;\n",
       "    }\n",
       "\n",
       "    .dataframe tbody tr th {\n",
       "        vertical-align: top;\n",
       "    }\n",
       "\n",
       "    .dataframe thead th {\n",
       "        text-align: right;\n",
       "    }\n",
       "</style>\n",
       "<table border=\"1\" class=\"dataframe\">\n",
       "  <thead>\n",
       "    <tr style=\"text-align: right;\">\n",
       "      <th></th>\n",
       "      <th>Category</th>\n",
       "      <th>Message</th>\n",
       "    </tr>\n",
       "  </thead>\n",
       "  <tbody>\n",
       "    <tr>\n",
       "      <th>0</th>\n",
       "      <td>0</td>\n",
       "      <td>Go until jurong point, crazy.. Available only ...</td>\n",
       "    </tr>\n",
       "    <tr>\n",
       "      <th>1</th>\n",
       "      <td>0</td>\n",
       "      <td>Ok lar... Joking wif u oni...</td>\n",
       "    </tr>\n",
       "    <tr>\n",
       "      <th>2</th>\n",
       "      <td>1</td>\n",
       "      <td>Free entry in 2 a wkly comp to win FA Cup fina...</td>\n",
       "    </tr>\n",
       "    <tr>\n",
       "      <th>3</th>\n",
       "      <td>0</td>\n",
       "      <td>U dun say so early hor... U c already then say...</td>\n",
       "    </tr>\n",
       "    <tr>\n",
       "      <th>4</th>\n",
       "      <td>0</td>\n",
       "      <td>Nah I don't think he goes to usf, he lives aro...</td>\n",
       "    </tr>\n",
       "  </tbody>\n",
       "</table>\n",
       "</div>"
      ],
      "text/plain": [
       "   Category                                            Message\n",
       "0         0  Go until jurong point, crazy.. Available only ...\n",
       "1         0                      Ok lar... Joking wif u oni...\n",
       "2         1  Free entry in 2 a wkly comp to win FA Cup fina...\n",
       "3         0  U dun say so early hor... U c already then say...\n",
       "4         0  Nah I don't think he goes to usf, he lives aro..."
      ]
     },
     "execution_count": 5,
     "metadata": {},
     "output_type": "execute_result"
    }
   ],
   "source": [
    "df.head()"
   ]
  },
  {
   "cell_type": "code",
   "execution_count": 6,
   "id": "c705c27e",
   "metadata": {},
   "outputs": [],
   "source": [
    "x = df.iloc[:,1]\n",
    "y = df.iloc[:,0]"
   ]
  },
  {
   "cell_type": "code",
   "execution_count": 7,
   "id": "68832cbd",
   "metadata": {},
   "outputs": [],
   "source": [
    "from sklearn.model_selection import train_test_split"
   ]
  },
  {
   "cell_type": "code",
   "execution_count": 8,
   "id": "ac6e8c88",
   "metadata": {},
   "outputs": [],
   "source": [
    "x_train,x_test,y_train,y_test = train_test_split(x,y,test_size = 0.3,random_state = 4)"
   ]
  },
  {
   "cell_type": "code",
   "execution_count": 9,
   "id": "3ae8c862",
   "metadata": {},
   "outputs": [],
   "source": [
    "from sklearn.feature_extraction.text import CountVectorizer"
   ]
  },
  {
   "cell_type": "code",
   "execution_count": 10,
   "id": "b3b05850",
   "metadata": {},
   "outputs": [],
   "source": [
    "count_vector = CountVectorizer()"
   ]
  },
  {
   "cell_type": "code",
   "execution_count": 11,
   "id": "045ec54d",
   "metadata": {},
   "outputs": [],
   "source": [
    "training_data = count_vector.fit_transform(x_train)"
   ]
  },
  {
   "cell_type": "code",
   "execution_count": 12,
   "id": "0d4016b4",
   "metadata": {},
   "outputs": [
    {
     "name": "stdout",
     "output_type": "stream",
     "text": [
      "  (0, 3575)\t1\n",
      "  (0, 6841)\t1\n",
      "  (0, 6419)\t1\n",
      "  (0, 2382)\t1\n",
      "  (0, 4549)\t1\n",
      "  (0, 4036)\t1\n",
      "  (0, 6958)\t1\n",
      "  (0, 2355)\t1\n",
      "  (0, 4449)\t1\n",
      "  (0, 2880)\t1\n",
      "  (0, 3162)\t1\n",
      "  (0, 4566)\t1\n",
      "  (1, 3240)\t1\n",
      "  (1, 3462)\t1\n",
      "  (1, 2928)\t1\n",
      "  (1, 2951)\t1\n",
      "  (1, 920)\t1\n",
      "  (1, 2487)\t1\n",
      "  (1, 3596)\t1\n",
      "  (1, 6613)\t1\n",
      "  (1, 748)\t1\n",
      "  (1, 4867)\t1\n",
      "  (1, 2027)\t1\n",
      "  (1, 6967)\t1\n",
      "  (1, 6449)\t1\n",
      "  :\t:\n",
      "  (3898, 4276)\t1\n",
      "  (3898, 1214)\t1\n",
      "  (3898, 3131)\t1\n",
      "  (3898, 5902)\t1\n",
      "  (3898, 6157)\t1\n",
      "  (3898, 1727)\t1\n",
      "  (3898, 1207)\t1\n",
      "  (3899, 6449)\t1\n",
      "  (3899, 7172)\t1\n",
      "  (3899, 5304)\t1\n",
      "  (3899, 6031)\t1\n",
      "  (3899, 2937)\t1\n",
      "  (3899, 1473)\t1\n",
      "  (3899, 4457)\t1\n",
      "  (3899, 1961)\t1\n",
      "  (3899, 5810)\t1\n",
      "  (3899, 7007)\t1\n",
      "  (3899, 6327)\t1\n",
      "  (3899, 3940)\t1\n",
      "  (3899, 5595)\t1\n",
      "  (3899, 2817)\t1\n",
      "  (3899, 4495)\t1\n",
      "  (3899, 4042)\t1\n",
      "  (3899, 625)\t1\n",
      "  (3899, 60)\t1\n"
     ]
    }
   ],
   "source": [
    "print(training_data)"
   ]
  },
  {
   "cell_type": "code",
   "execution_count": 13,
   "id": "a11af17f",
   "metadata": {},
   "outputs": [],
   "source": [
    "# Transform testing data "
   ]
  },
  {
   "cell_type": "code",
   "execution_count": 14,
   "id": "2260e55e",
   "metadata": {},
   "outputs": [],
   "source": [
    "testing_data = count_vector.transform(x_test)"
   ]
  },
  {
   "cell_type": "code",
   "execution_count": 15,
   "id": "3bb18a00",
   "metadata": {},
   "outputs": [
    {
     "name": "stdout",
     "output_type": "stream",
     "text": [
      "  (0, 877)\t1\n",
      "  (0, 1224)\t1\n",
      "  (0, 1760)\t1\n",
      "  (0, 2253)\t2\n",
      "  (0, 2941)\t1\n",
      "  (0, 3353)\t1\n",
      "  (0, 3799)\t1\n",
      "  (0, 4247)\t1\n",
      "  (0, 4549)\t1\n",
      "  (0, 4660)\t2\n",
      "  (0, 4706)\t1\n",
      "  (0, 5842)\t1\n",
      "  (0, 5846)\t1\n",
      "  (0, 5856)\t1\n",
      "  (0, 6181)\t1\n",
      "  (0, 6339)\t1\n",
      "  (0, 6354)\t2\n",
      "  (0, 6368)\t1\n",
      "  (0, 6558)\t1\n",
      "  (0, 6962)\t2\n",
      "  (1, 3452)\t1\n",
      "  (1, 3469)\t1\n",
      "  (1, 4457)\t1\n",
      "  (1, 4588)\t1\n",
      "  (1, 6283)\t1\n",
      "  :\t:\n",
      "  (1667, 3006)\t1\n",
      "  (1667, 3353)\t1\n",
      "  (1667, 3935)\t1\n",
      "  (1667, 5364)\t2\n",
      "  (1667, 5377)\t2\n",
      "  (1667, 5704)\t1\n",
      "  (1667, 6049)\t1\n",
      "  (1667, 6449)\t1\n",
      "  (1667, 6585)\t1\n",
      "  (1667, 6848)\t1\n",
      "  (1668, 3469)\t1\n",
      "  (1668, 4566)\t1\n",
      "  (1668, 4672)\t1\n",
      "  (1668, 4878)\t1\n",
      "  (1668, 5877)\t1\n",
      "  (1669, 1458)\t1\n",
      "  (1669, 1513)\t1\n",
      "  (1669, 3015)\t1\n",
      "  (1669, 3893)\t1\n",
      "  (1669, 5364)\t1\n",
      "  (1669, 5633)\t1\n",
      "  (1669, 6022)\t1\n",
      "  (1669, 6159)\t1\n",
      "  (1670, 5897)\t1\n",
      "  (1671, 4571)\t1\n"
     ]
    }
   ],
   "source": [
    "print(testing_data)"
   ]
  },
  {
   "cell_type": "code",
   "execution_count": 16,
   "id": "0a80ebf5",
   "metadata": {},
   "outputs": [],
   "source": [
    "from sklearn.svm import SVC"
   ]
  },
  {
   "cell_type": "code",
   "execution_count": 17,
   "id": "40ec4372",
   "metadata": {},
   "outputs": [],
   "source": [
    "model = SVC(kernel = \"poly\",C = 1000)"
   ]
  },
  {
   "cell_type": "code",
   "execution_count": 18,
   "id": "c5eddaff",
   "metadata": {},
   "outputs": [
    {
     "data": {
      "text/plain": [
       "SVC(C=1000, kernel='poly')"
      ]
     },
     "execution_count": 18,
     "metadata": {},
     "output_type": "execute_result"
    }
   ],
   "source": [
    "model.fit(training_data,y_train)"
   ]
  },
  {
   "cell_type": "code",
   "execution_count": 19,
   "id": "c0a8b074",
   "metadata": {},
   "outputs": [],
   "source": [
    "y_pred = model.predict(testing_data)"
   ]
  },
  {
   "cell_type": "code",
   "execution_count": 20,
   "id": "80c36a92",
   "metadata": {},
   "outputs": [],
   "source": [
    "from sklearn.metrics import accuracy_score"
   ]
  },
  {
   "cell_type": "code",
   "execution_count": 21,
   "id": "02a316fb",
   "metadata": {},
   "outputs": [],
   "source": [
    "accuracy_1 = (accuracy_score(y_test,y_pred))"
   ]
  },
  {
   "cell_type": "code",
   "execution_count": 22,
   "id": "51b0ba2b",
   "metadata": {},
   "outputs": [],
   "source": [
    "def take_input(input_message):\n",
    "    count_vector = CountVectorizer()\n",
    "    training_data = count_vector.fit_transform(x_train)\n",
    "    testing_data = count_vector.transform(pd.Series(input_message))\n",
    "    return model.predict(testing_data)"
   ]
  },
  {
   "cell_type": "code",
   "execution_count": 23,
   "id": "596506b0",
   "metadata": {},
   "outputs": [],
   "source": [
    "input_message = 'Go until jurong point, crazy.. Available only'"
   ]
  },
  {
   "cell_type": "code",
   "execution_count": 24,
   "id": "9b2d0dce",
   "metadata": {},
   "outputs": [],
   "source": [
    "a = take_input(input_message)"
   ]
  },
  {
   "cell_type": "code",
   "execution_count": 25,
   "id": "3fd10778",
   "metadata": {},
   "outputs": [
    {
     "name": "stdout",
     "output_type": "stream",
     "text": [
      "Ham\n"
     ]
    }
   ],
   "source": [
    "if a==0:\n",
    "    print(\"Ham\")\n",
    "else:\n",
    "    print(\"Spam\")"
   ]
  },
  {
   "cell_type": "markdown",
   "id": "49857625",
   "metadata": {},
   "source": [
    "# Optimizing using GridSearchCV"
   ]
  },
  {
   "cell_type": "code",
   "execution_count": 26,
   "id": "a6effce9",
   "metadata": {},
   "outputs": [],
   "source": [
    "from sklearn.model_selection import GridSearchCV"
   ]
  },
  {
   "cell_type": "code",
   "execution_count": 27,
   "id": "1b64d8c7",
   "metadata": {},
   "outputs": [],
   "source": [
    "svm_model = SVC()\n",
    "param_grid = {'C':[0.01,0.1,1,10,100],'kernel':['linear','rbf','sigmoid','poly']}"
   ]
  },
  {
   "cell_type": "code",
   "execution_count": 28,
   "id": "45bd143c",
   "metadata": {},
   "outputs": [],
   "source": [
    "grid_model = GridSearchCV(svm_model,param_grid)"
   ]
  },
  {
   "cell_type": "code",
   "execution_count": 29,
   "id": "22132c5d",
   "metadata": {},
   "outputs": [
    {
     "data": {
      "text/plain": [
       "GridSearchCV(estimator=SVC(),\n",
       "             param_grid={'C': [0.01, 0.1, 1, 10, 100],\n",
       "                         'kernel': ['linear', 'rbf', 'sigmoid', 'poly']})"
      ]
     },
     "execution_count": 29,
     "metadata": {},
     "output_type": "execute_result"
    }
   ],
   "source": [
    "grid_model.fit(training_data,y_train)"
   ]
  },
  {
   "cell_type": "code",
   "execution_count": 30,
   "id": "db9af9d8",
   "metadata": {},
   "outputs": [
    {
     "data": {
      "text/plain": [
       "{'C': 1, 'kernel': 'linear'}"
      ]
     },
     "execution_count": 30,
     "metadata": {},
     "output_type": "execute_result"
    }
   ],
   "source": [
    "grid_model.best_params_"
   ]
  },
  {
   "cell_type": "code",
   "execution_count": 31,
   "id": "ace09ef0",
   "metadata": {},
   "outputs": [],
   "source": [
    "# Using optimized parameters"
   ]
  },
  {
   "cell_type": "code",
   "execution_count": 32,
   "id": "91afa04f",
   "metadata": {},
   "outputs": [],
   "source": [
    "new_model = SVC(kernel = 'linear',C = 1)"
   ]
  },
  {
   "cell_type": "code",
   "execution_count": 33,
   "id": "61edf0dd",
   "metadata": {},
   "outputs": [
    {
     "data": {
      "text/plain": [
       "SVC(C=1, kernel='linear')"
      ]
     },
     "execution_count": 33,
     "metadata": {},
     "output_type": "execute_result"
    }
   ],
   "source": [
    "new_model.fit(training_data,y_train)"
   ]
  },
  {
   "cell_type": "code",
   "execution_count": 34,
   "id": "b87b9d15",
   "metadata": {},
   "outputs": [],
   "source": [
    "new_y_pred= new_model.predict(testing_data)"
   ]
  },
  {
   "cell_type": "code",
   "execution_count": 35,
   "id": "cd3679fd",
   "metadata": {},
   "outputs": [],
   "source": [
    "accuracy_2 = accuracy_score(y_test,new_y_pred)"
   ]
  },
  {
   "cell_type": "markdown",
   "id": "4371dcc9",
   "metadata": {},
   "source": [
    "##############################################################################################################################"
   ]
  },
  {
   "cell_type": "code",
   "execution_count": 36,
   "id": "ec2c648a",
   "metadata": {},
   "outputs": [
    {
     "data": {
      "text/plain": [
       "True"
      ]
     },
     "execution_count": 36,
     "metadata": {},
     "output_type": "execute_result"
    }
   ],
   "source": [
    "accuracy_2 > accuracy_1"
   ]
  },
  {
   "cell_type": "code",
   "execution_count": 37,
   "id": "81b36d95",
   "metadata": {},
   "outputs": [],
   "source": [
    "# This shows that after using optimization accuracy has increased"
   ]
  },
  {
   "cell_type": "code",
   "execution_count": null,
   "id": "4472dd8d",
   "metadata": {},
   "outputs": [],
   "source": []
  },
  {
   "cell_type": "code",
   "execution_count": null,
   "id": "14e3ddda",
   "metadata": {},
   "outputs": [],
   "source": []
  }
 ],
 "metadata": {
  "kernelspec": {
   "display_name": "Python 3 (ipykernel)",
   "language": "python",
   "name": "python3"
  },
  "language_info": {
   "codemirror_mode": {
    "name": "ipython",
    "version": 3
   },
   "file_extension": ".py",
   "mimetype": "text/x-python",
   "name": "python",
   "nbconvert_exporter": "python",
   "pygments_lexer": "ipython3",
   "version": "3.9.12"
  }
 },
 "nbformat": 4,
 "nbformat_minor": 5
}
