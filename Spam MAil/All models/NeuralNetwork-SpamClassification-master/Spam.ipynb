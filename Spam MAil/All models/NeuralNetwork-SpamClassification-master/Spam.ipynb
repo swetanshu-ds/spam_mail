{
 "cells": [
  {
   "cell_type": "code",
   "execution_count": null,
   "id": "d4815bb9",
   "metadata": {},
   "outputs": [],
   "source": [
    "import pandas as pd\n",
    "import numpy as np"
   ]
  },
  {
   "cell_type": "code",
   "execution_count": null,
   "id": "9c26f298",
   "metadata": {},
   "outputs": [],
   "source": [
    "df = pd.read_csv(\"mail_data.csv\")"
   ]
  },
  {
   "cell_type": "code",
   "execution_count": null,
   "id": "ba8fe241",
   "metadata": {},
   "outputs": [],
   "source": [
    "df['label_tag']=df[\"Category\"].map({\"ham\":0,\"spam\":1})"
   ]
  },
  {
   "cell_type": "code",
   "execution_count": null,
   "id": "ff503e0c",
   "metadata": {
    "scrolled": true
   },
   "outputs": [],
   "source": [
    "df.head()"
   ]
  },
  {
   "cell_type": "code",
   "execution_count": null,
   "id": "883908fa",
   "metadata": {},
   "outputs": [],
   "source": [
    "y = df.iloc[:,-1]"
   ]
  },
  {
   "cell_type": "code",
   "execution_count": null,
   "id": "b653763d",
   "metadata": {},
   "outputs": [],
   "source": [
    "X=df.iloc[:, 1:]"
   ]
  },
  {
   "cell_type": "code",
   "execution_count": null,
   "id": "7a2615ff",
   "metadata": {},
   "outputs": [],
   "source": [
    "print(X)"
   ]
  },
  {
   "cell_type": "code",
   "execution_count": null,
   "id": "da514069",
   "metadata": {},
   "outputs": [],
   "source": [
    "print(y)"
   ]
  },
  {
   "cell_type": "code",
   "execution_count": null,
   "id": "6f013599",
   "metadata": {},
   "outputs": [],
   "source": [
    "from sklearn.model_selection import train_test_split\n",
    "X_train, X_test, y_train, y_test=train_test_split(X, y, test_size=0.15, random_state=8)"
   ]
  },
  {
   "cell_type": "code",
   "execution_count": null,
   "id": "1338cfb8",
   "metadata": {},
   "outputs": [],
   "source": [
    "X.shape"
   ]
  },
  {
   "cell_type": "code",
   "execution_count": null,
   "id": "242cb0b1",
   "metadata": {},
   "outputs": [],
   "source": [
    "y.shape"
   ]
  },
  {
   "cell_type": "code",
   "execution_count": null,
   "id": "87b45c4d",
   "metadata": {},
   "outputs": [],
   "source": [
    "X_train"
   ]
  },
  {
   "cell_type": "code",
   "execution_count": null,
   "id": "ff035c9c",
   "metadata": {},
   "outputs": [],
   "source": [
    "from sklearn.feature_extraction.text import TfidfVectorizer"
   ]
  },
  {
   "cell_type": "code",
   "execution_count": null,
   "id": "8ad67884",
   "metadata": {},
   "outputs": [],
   "source": [
    "feature_extraction  = TfidfVectorizer(min_df = 1,stop_words = 'english', lowercase = 'True')"
   ]
  },
  {
   "cell_type": "code",
   "execution_count": null,
   "id": "1c8a95ca",
   "metadata": {},
   "outputs": [],
   "source": [
    "x_train_feature = feature_extraction.fit_transform(X_train.Message)\n",
    "print(x_train_feature)"
   ]
  },
  {
   "cell_type": "code",
   "execution_count": null,
   "id": "7fa4a535",
   "metadata": {
    "scrolled": true
   },
   "outputs": [],
   "source": [
    "x_test_feature = feature_extraction.transform(X_test.Message)\n",
    "print(x_test_feature)"
   ]
  },
  {
   "cell_type": "code",
   "execution_count": null,
   "id": "5f7ce889",
   "metadata": {},
   "outputs": [],
   "source": [
    "y_train = y_train.astype('int')\n",
    "y_test = y_test.astype('int')"
   ]
  },
  {
   "cell_type": "code",
   "execution_count": null,
   "id": "f8fe3e33",
   "metadata": {},
   "outputs": [],
   "source": [
    "from sklearn.neural_network import MLPClassifier\n",
    "from sklearn.metrics import accuracy_score"
   ]
  },
  {
   "cell_type": "code",
   "execution_count": null,
   "id": "a685f477",
   "metadata": {},
   "outputs": [],
   "source": [
    "models={\"Multi-layer Perceptron Classification\": MLPClassifier(hidden_layer_sizes=[20, 20],\n",
    "                                                           learning_rate='adaptive', random_state=8,solver = \"sgd\",max_iter = 2000000)}"
   ]
  },
  {
   "cell_type": "code",
   "execution_count": null,
   "id": "c8d92507",
   "metadata": {},
   "outputs": [],
   "source": [
    "for model_name, model in models.items():\n",
    "    y_pred=model.fit(x_train_feature, y_train).predict(x_test_feature)\n",
    "    print(y_pred)\n",
    "    print(f\"Accuracy for {model_name} model : {accuracy_score(y_test, y_pred)}\")"
   ]
  },
  {
   "cell_type": "code",
   "execution_count": null,
   "id": "95c5a31e",
   "metadata": {},
   "outputs": [],
   "source": [
    "y_pred"
   ]
  },
  {
   "cell_type": "code",
   "execution_count": null,
   "id": "ec5dda0c",
   "metadata": {},
   "outputs": [],
   "source": [
    "def predict_message(message):\n",
    "    z = feature_extraction.transform(pd.Series(message))\n",
    "    a = model.predict(z)\n",
    "    if a==1:\n",
    "        return \"Spam\"\n",
    "    else:\n",
    "        return \"Ham\""
   ]
  },
  {
   "cell_type": "code",
   "execution_count": null,
   "id": "c6f67407",
   "metadata": {},
   "outputs": [],
   "source": [
    "predict_message(df.Message[2153])"
   ]
  },
  {
   "cell_type": "code",
   "execution_count": null,
   "id": "e3123a71",
   "metadata": {},
   "outputs": [],
   "source": []
  },
  {
   "cell_type": "code",
   "execution_count": null,
   "id": "644efa37",
   "metadata": {},
   "outputs": [],
   "source": []
  }
 ],
 "metadata": {
  "kernelspec": {
   "display_name": "Python 3 (ipykernel)",
   "language": "python",
   "name": "python3"
  },
  "language_info": {
   "codemirror_mode": {
    "name": "ipython",
    "version": 3
   },
   "file_extension": ".py",
   "mimetype": "text/x-python",
   "name": "python",
   "nbconvert_exporter": "python",
   "pygments_lexer": "ipython3",
   "version": "3.9.12"
  }
 },
 "nbformat": 4,
 "nbformat_minor": 5
}
