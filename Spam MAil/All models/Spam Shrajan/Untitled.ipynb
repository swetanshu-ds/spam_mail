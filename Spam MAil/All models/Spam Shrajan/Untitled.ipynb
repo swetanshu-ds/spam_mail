{
 "cells": [
  {
   "cell_type": "code",
   "execution_count": 1,
   "id": "431c0fe7",
   "metadata": {},
   "outputs": [],
   "source": [
    "#pip install pandas\n",
    "#pip install numpy\n",
    "#pip install scikit-learn"
   ]
  },
  {
   "cell_type": "code",
   "execution_count": 113,
   "id": "af906cfa",
   "metadata": {},
   "outputs": [],
   "source": [
    "import  pandas as pd\n",
    "import numpy as np"
   ]
  },
  {
   "cell_type": "code",
   "execution_count": null,
   "id": "9569430f",
   "metadata": {},
   "outputs": [],
   "source": []
  },
  {
   "cell_type": "code",
   "execution_count": 114,
   "id": "9303f3f6",
   "metadata": {},
   "outputs": [],
   "source": [
    "df = pd.read_csv(\"spam.csv\",encoding = 'latin')"
   ]
  },
  {
   "cell_type": "code",
   "execution_count": 117,
   "id": "956cb12e",
   "metadata": {},
   "outputs": [
    {
     "data": {
      "text/html": [
       "<div>\n",
       "<style scoped>\n",
       "    .dataframe tbody tr th:only-of-type {\n",
       "        vertical-align: middle;\n",
       "    }\n",
       "\n",
       "    .dataframe tbody tr th {\n",
       "        vertical-align: top;\n",
       "    }\n",
       "\n",
       "    .dataframe thead th {\n",
       "        text-align: right;\n",
       "    }\n",
       "</style>\n",
       "<table border=\"1\" class=\"dataframe\">\n",
       "  <thead>\n",
       "    <tr style=\"text-align: right;\">\n",
       "      <th></th>\n",
       "      <th>v1</th>\n",
       "      <th>v2</th>\n",
       "    </tr>\n",
       "  </thead>\n",
       "  <tbody>\n",
       "    <tr>\n",
       "      <th>0</th>\n",
       "      <td>ham</td>\n",
       "      <td>Go until jurong point, crazy.. Available only ...</td>\n",
       "    </tr>\n",
       "    <tr>\n",
       "      <th>1</th>\n",
       "      <td>ham</td>\n",
       "      <td>Ok lar... Joking wif u oni...</td>\n",
       "    </tr>\n",
       "    <tr>\n",
       "      <th>2</th>\n",
       "      <td>spam</td>\n",
       "      <td>Free entry in 2 a wkly comp to win FA Cup fina...</td>\n",
       "    </tr>\n",
       "    <tr>\n",
       "      <th>3</th>\n",
       "      <td>ham</td>\n",
       "      <td>U dun say so early hor... U c already then say...</td>\n",
       "    </tr>\n",
       "    <tr>\n",
       "      <th>4</th>\n",
       "      <td>ham</td>\n",
       "      <td>Nah I don't think he goes to usf, he lives aro...</td>\n",
       "    </tr>\n",
       "  </tbody>\n",
       "</table>\n",
       "</div>"
      ],
      "text/plain": [
       "     v1                                                 v2\n",
       "0   ham  Go until jurong point, crazy.. Available only ...\n",
       "1   ham                      Ok lar... Joking wif u oni...\n",
       "2  spam  Free entry in 2 a wkly comp to win FA Cup fina...\n",
       "3   ham  U dun say so early hor... U c already then say...\n",
       "4   ham  Nah I don't think he goes to usf, he lives aro..."
      ]
     },
     "execution_count": 117,
     "metadata": {},
     "output_type": "execute_result"
    }
   ],
   "source": [
    "df.head()"
   ]
  },
  {
   "cell_type": "code",
   "execution_count": 116,
   "id": "2fcda1ef",
   "metadata": {},
   "outputs": [],
   "source": [
    "df.drop(columns = [\"Unnamed: 2\",\"Unnamed: 3\",\"Unnamed: 4\"],inplace = True)"
   ]
  },
  {
   "cell_type": "code",
   "execution_count": 119,
   "id": "58eed8b1",
   "metadata": {},
   "outputs": [],
   "source": [
    "df.columns = ['Category','Text']"
   ]
  },
  {
   "cell_type": "code",
   "execution_count": 120,
   "id": "cb1702f7",
   "metadata": {},
   "outputs": [],
   "source": [
    "df['Category'] = df.Category.map({'ham':0,'spam':1})"
   ]
  },
  {
   "cell_type": "code",
   "execution_count": 121,
   "id": "67ef8a57",
   "metadata": {},
   "outputs": [
    {
     "data": {
      "text/html": [
       "<div>\n",
       "<style scoped>\n",
       "    .dataframe tbody tr th:only-of-type {\n",
       "        vertical-align: middle;\n",
       "    }\n",
       "\n",
       "    .dataframe tbody tr th {\n",
       "        vertical-align: top;\n",
       "    }\n",
       "\n",
       "    .dataframe thead th {\n",
       "        text-align: right;\n",
       "    }\n",
       "</style>\n",
       "<table border=\"1\" class=\"dataframe\">\n",
       "  <thead>\n",
       "    <tr style=\"text-align: right;\">\n",
       "      <th></th>\n",
       "      <th>Category</th>\n",
       "      <th>Text</th>\n",
       "    </tr>\n",
       "  </thead>\n",
       "  <tbody>\n",
       "    <tr>\n",
       "      <th>0</th>\n",
       "      <td>0</td>\n",
       "      <td>Go until jurong point, crazy.. Available only ...</td>\n",
       "    </tr>\n",
       "    <tr>\n",
       "      <th>1</th>\n",
       "      <td>0</td>\n",
       "      <td>Ok lar... Joking wif u oni...</td>\n",
       "    </tr>\n",
       "    <tr>\n",
       "      <th>2</th>\n",
       "      <td>1</td>\n",
       "      <td>Free entry in 2 a wkly comp to win FA Cup fina...</td>\n",
       "    </tr>\n",
       "    <tr>\n",
       "      <th>3</th>\n",
       "      <td>0</td>\n",
       "      <td>U dun say so early hor... U c already then say...</td>\n",
       "    </tr>\n",
       "    <tr>\n",
       "      <th>4</th>\n",
       "      <td>0</td>\n",
       "      <td>Nah I don't think he goes to usf, he lives aro...</td>\n",
       "    </tr>\n",
       "  </tbody>\n",
       "</table>\n",
       "</div>"
      ],
      "text/plain": [
       "   Category                                               Text\n",
       "0         0  Go until jurong point, crazy.. Available only ...\n",
       "1         0                      Ok lar... Joking wif u oni...\n",
       "2         1  Free entry in 2 a wkly comp to win FA Cup fina...\n",
       "3         0  U dun say so early hor... U c already then say...\n",
       "4         0  Nah I don't think he goes to usf, he lives aro..."
      ]
     },
     "execution_count": 121,
     "metadata": {},
     "output_type": "execute_result"
    }
   ],
   "source": [
    "df.head()"
   ]
  },
  {
   "cell_type": "code",
   "execution_count": 122,
   "id": "93e4aa41",
   "metadata": {},
   "outputs": [],
   "source": [
    "x = df.iloc[:,1]\n",
    "y = df.iloc[:,0]"
   ]
  },
  {
   "cell_type": "code",
   "execution_count": 123,
   "id": "36467a8d",
   "metadata": {},
   "outputs": [
    {
     "data": {
      "text/plain": [
       "0       Go until jurong point, crazy.. Available only ...\n",
       "1                           Ok lar... Joking wif u oni...\n",
       "2       Free entry in 2 a wkly comp to win FA Cup fina...\n",
       "3       U dun say so early hor... U c already then say...\n",
       "4       Nah I don't think he goes to usf, he lives aro...\n",
       "                              ...                        \n",
       "5567    This is the 2nd time we have tried 2 contact u...\n",
       "5568                Will Ì_ b going to esplanade fr home?\n",
       "5569    Pity, * was in mood for that. So...any other s...\n",
       "5570    The guy did some bitching but I acted like i'd...\n",
       "5571                           Rofl. Its true to its name\n",
       "Name: Text, Length: 5572, dtype: object"
      ]
     },
     "execution_count": 123,
     "metadata": {},
     "output_type": "execute_result"
    }
   ],
   "source": [
    "x"
   ]
  },
  {
   "cell_type": "code",
   "execution_count": 124,
   "id": "a27e8476",
   "metadata": {},
   "outputs": [
    {
     "data": {
      "text/plain": [
       "0       0\n",
       "1       0\n",
       "2       1\n",
       "3       0\n",
       "4       0\n",
       "       ..\n",
       "5567    1\n",
       "5568    0\n",
       "5569    0\n",
       "5570    0\n",
       "5571    0\n",
       "Name: Category, Length: 5572, dtype: int64"
      ]
     },
     "execution_count": 124,
     "metadata": {},
     "output_type": "execute_result"
    }
   ],
   "source": [
    "y"
   ]
  },
  {
   "cell_type": "code",
   "execution_count": 79,
   "id": "1ded966d",
   "metadata": {},
   "outputs": [],
   "source": [
    "from sklearn.model_selection import train_test_split"
   ]
  },
  {
   "cell_type": "code",
   "execution_count": 80,
   "id": "a090f067",
   "metadata": {},
   "outputs": [],
   "source": [
    "x_train,x_test,y_train,y_test = train_test_split(x,y,test_size = 0.3,random_state = 4)"
   ]
  },
  {
   "cell_type": "code",
   "execution_count": 81,
   "id": "dc9470e0",
   "metadata": {},
   "outputs": [],
   "source": [
    "from sklearn.feature_extraction.text import TfidfVectorizer"
   ]
  },
  {
   "cell_type": "code",
   "execution_count": 82,
   "id": "d0554a78",
   "metadata": {},
   "outputs": [],
   "source": [
    "tfidf = TfidfVectorizer()"
   ]
  },
  {
   "cell_type": "code",
   "execution_count": 83,
   "id": "5e15ba20",
   "metadata": {},
   "outputs": [],
   "source": [
    "training_data = tfidf.fit_transform(x_train)"
   ]
  },
  {
   "cell_type": "code",
   "execution_count": 84,
   "id": "a1dd5839",
   "metadata": {},
   "outputs": [
    {
     "name": "stdout",
     "output_type": "stream",
     "text": [
      "  (0, 1461)\t0.400837819186677\n",
      "  (0, 3391)\t0.18229334089458668\n",
      "  (0, 4522)\t0.4770579302752445\n",
      "  (0, 5401)\t0.3820109322932503\n",
      "  (0, 6439)\t0.13628217155570088\n",
      "  (0, 2968)\t0.2791199673652606\n",
      "  (0, 1667)\t0.4086333251378819\n",
      "  (0, 7139)\t0.34600664844721835\n",
      "  (0, 4484)\t0.2222588079160418\n",
      "  (1, 2849)\t0.4038779627153759\n",
      "  (1, 3131)\t0.22523984325699345\n",
      "  (1, 3447)\t0.5078898206296056\n",
      "  (1, 4237)\t0.45560875296920383\n",
      "  (1, 1503)\t0.41596734906125354\n",
      "  (1, 4568)\t0.2646270306991609\n",
      "  (1, 3506)\t0.2784993675027199\n",
      "  (2, 1993)\t0.6104423765565974\n",
      "  (2, 7156)\t0.23276761922958575\n",
      "  (2, 4969)\t0.6104423765565974\n",
      "  (2, 1198)\t0.34027325459962077\n",
      "  (2, 7152)\t0.16213833165646688\n",
      "  (2, 3131)\t0.24179478666401508\n",
      "  (3, 3677)\t0.3690115900397455\n",
      "  (3, 4374)\t0.3690115900397455\n",
      "  (3, 2443)\t0.3690115900397455\n",
      "  :\t:\n",
      "  (3897, 4007)\t0.2658219766801669\n",
      "  (3897, 2249)\t0.21042639316582934\n",
      "  (3897, 2295)\t0.26346111681970086\n",
      "  (3897, 4684)\t0.5103453079250186\n",
      "  (3897, 6335)\t0.17071645579257072\n",
      "  (3897, 3501)\t0.13365505796877802\n",
      "  (3897, 4394)\t0.1875853674828427\n",
      "  (3897, 4338)\t0.13143751853449945\n",
      "  (3897, 6933)\t0.16677978290966147\n",
      "  (3897, 5580)\t0.1787358375487761\n",
      "  (3897, 4875)\t0.20342877920628058\n",
      "  (3897, 6439)\t0.09037769016583384\n",
      "  (3898, 4437)\t0.31373328224411196\n",
      "  (3898, 2977)\t0.3570646917948487\n",
      "  (3898, 1162)\t0.450470106639969\n",
      "  (3898, 2680)\t0.3696661570486596\n",
      "  (3898, 2677)\t0.3570646917948487\n",
      "  (3898, 6914)\t0.3129113376126473\n",
      "  (3898, 4495)\t0.22319126294459685\n",
      "  (3898, 4338)\t0.20270644232709772\n",
      "  (3898, 2979)\t0.26714524348949376\n",
      "  (3898, 3131)\t0.21638005170203772\n",
      "  (3899, 1104)\t0.5859538694504999\n",
      "  (3899, 3913)\t0.7681995344106317\n",
      "  (3899, 7152)\t0.25792932793165485\n"
     ]
    }
   ],
   "source": [
    "print(training_data)"
   ]
  },
  {
   "cell_type": "code",
   "execution_count": 85,
   "id": "c9c26606",
   "metadata": {},
   "outputs": [],
   "source": [
    "testing_data = tfidf.transform(x_test)"
   ]
  },
  {
   "cell_type": "code",
   "execution_count": 127,
   "id": "f16f204b",
   "metadata": {},
   "outputs": [
    {
     "data": {
      "text/plain": [
       "<1672x7196 sparse matrix of type '<class 'numpy.float64'>'\n",
       "\twith 20395 stored elements in Compressed Sparse Row format>"
      ]
     },
     "execution_count": 127,
     "metadata": {},
     "output_type": "execute_result"
    }
   ],
   "source": [
    "testing_data"
   ]
  },
  {
   "cell_type": "code",
   "execution_count": 130,
   "id": "25ecc2dd",
   "metadata": {},
   "outputs": [
    {
     "name": "stdout",
     "output_type": "stream",
     "text": [
      "  (0, 7063)\t0.3821666137473574\n",
      "  (0, 6454)\t0.41006247905563814\n",
      "  (0, 4692)\t0.5685365318153995\n",
      "  (0, 2149)\t0.5524423813636329\n",
      "  (0, 1497)\t0.23952258739463014\n",
      "  (1, 7152)\t0.16646496129883417\n",
      "  (1, 3926)\t0.6587259062658207\n",
      "  (1, 3914)\t0.4264283028773174\n",
      "  (1, 691)\t0.5971000750119043\n",
      "  (2, 7156)\t0.08989935289268192\n",
      "  (2, 7090)\t0.13922620969866908\n",
      "  (2, 7003)\t0.105679231768613\n",
      "  (2, 6665)\t0.18889818120654728\n",
      "  (2, 6296)\t0.12274963886265029\n",
      "  (2, 6025)\t0.12767198317970524\n",
      "  (2, 5814)\t0.15555009924347332\n",
      "  (2, 5601)\t0.1944149643069099\n",
      "  (2, 4875)\t0.13540175911856356\n",
      "  (2, 4452)\t0.10313616827678275\n",
      "  (2, 4408)\t0.17693053753407742\n",
      "  (2, 3882)\t0.2105742322662026\n",
      "  (2, 3401)\t0.2357646429187419\n",
      "  (2, 3170)\t0.15340680216929017\n",
      "  (2, 3000)\t0.2105742322662026\n",
      "  (2, 2754)\t0.0880526918717043\n",
      "  :\t:\n",
      "  (1669, 7044)\t0.34958211147162305\n",
      "  (1669, 6702)\t0.313552915625449\n",
      "  (1669, 6597)\t0.360128389255135\n",
      "  (1669, 6410)\t0.23277581569337594\n",
      "  (1669, 6362)\t0.20692132113563425\n",
      "  (1669, 6342)\t0.360128389255135\n",
      "  (1669, 6326)\t0.14778829729865928\n",
      "  (1669, 4564)\t0.26752890433355997\n",
      "  (1669, 4544)\t0.17912779292044903\n",
      "  (1669, 3491)\t0.1619307106255805\n",
      "  (1669, 3220)\t0.42817668691251703\n",
      "  (1669, 2691)\t0.2967057422878843\n",
      "  (1670, 7152)\t0.26790826006485435\n",
      "  (1670, 6670)\t0.4641122605557317\n",
      "  (1670, 6439)\t0.2573591148915483\n",
      "  (1670, 4495)\t0.41210445187315076\n",
      "  (1670, 4394)\t0.5341672712967902\n",
      "  (1670, 2914)\t0.43752315001012343\n",
      "  (1671, 5668)\t0.4176269390092576\n",
      "  (1671, 4598)\t0.26938405363751683\n",
      "  (1671, 4495)\t0.22302909411966512\n",
      "  (1671, 3907)\t0.3021760682435232\n",
      "  (1671, 3611)\t0.426735814481445\n",
      "  (1671, 3133)\t0.4220185796093739\n",
      "  (1671, 1003)\t0.5017613790637625\n"
     ]
    }
   ],
   "source": [
    "print(testing_data)"
   ]
  },
  {
   "cell_type": "code",
   "execution_count": 86,
   "id": "bd6d832c",
   "metadata": {},
   "outputs": [],
   "source": [
    "from sklearn.naive_bayes import GaussianNB"
   ]
  },
  {
   "cell_type": "code",
   "execution_count": 87,
   "id": "b0ca6ffe",
   "metadata": {},
   "outputs": [],
   "source": [
    "model = GaussianNB()"
   ]
  },
  {
   "cell_type": "code",
   "execution_count": 129,
   "id": "043f99d8",
   "metadata": {},
   "outputs": [
    {
     "data": {
      "text/plain": [
       "GaussianNB()"
      ]
     },
     "execution_count": 129,
     "metadata": {},
     "output_type": "execute_result"
    }
   ],
   "source": [
    "model.fit(training_data.toarray(),y_train)"
   ]
  },
  {
   "cell_type": "code",
   "execution_count": 89,
   "id": "69aff572",
   "metadata": {},
   "outputs": [],
   "source": [
    "y_pred = model.predict(testing_data.toarray())"
   ]
  },
  {
   "cell_type": "code",
   "execution_count": 90,
   "id": "0f9286c0",
   "metadata": {},
   "outputs": [
    {
     "data": {
      "text/plain": [
       "array([0, 0, 1, ..., 0, 1, 0], dtype=int64)"
      ]
     },
     "execution_count": 90,
     "metadata": {},
     "output_type": "execute_result"
    }
   ],
   "source": [
    "y_pred"
   ]
  },
  {
   "cell_type": "code",
   "execution_count": 91,
   "id": "669e9255",
   "metadata": {},
   "outputs": [],
   "source": [
    "from sklearn.metrics import accuracy_score"
   ]
  },
  {
   "cell_type": "code",
   "execution_count": 92,
   "id": "a3bdd242",
   "metadata": {},
   "outputs": [],
   "source": [
    "accuracy_1 = (accuracy_score(y_test,y_pred))"
   ]
  },
  {
   "cell_type": "code",
   "execution_count": 93,
   "id": "254af371",
   "metadata": {},
   "outputs": [
    {
     "data": {
      "text/plain": [
       "0.8941387559808612"
      ]
     },
     "execution_count": 93,
     "metadata": {},
     "output_type": "execute_result"
    }
   ],
   "source": [
    "accuracy_1"
   ]
  },
  {
   "cell_type": "code",
   "execution_count": 131,
   "id": "ffe217b4",
   "metadata": {},
   "outputs": [],
   "source": [
    "def take_input(input_message):\n",
    "    tfidf = TfidfVectorizer()\n",
    "    training_data = tfidf.fit_transform(x_train)\n",
    "    testing_data = tfidf.transform(pd.Series(input_message))\n",
    "    return  model.predict(testing_data.toarray())"
   ]
  },
  {
   "cell_type": "code",
   "execution_count": 132,
   "id": "a680ded9",
   "metadata": {},
   "outputs": [],
   "source": [
    "input_message = 'Go until jurong point, crazy.. Available only'"
   ]
  },
  {
   "cell_type": "code",
   "execution_count": 133,
   "id": "db79d8e2",
   "metadata": {},
   "outputs": [],
   "source": [
    "a = take_input(input_message)"
   ]
  },
  {
   "cell_type": "code",
   "execution_count": 135,
   "id": "6d440ee0",
   "metadata": {},
   "outputs": [
    {
     "name": "stdout",
     "output_type": "stream",
     "text": [
      "Ham\n"
     ]
    }
   ],
   "source": [
    "if a==0:\n",
    "    print(\"Ham\")\n",
    "else:\n",
    "    print(\"Spam\")"
   ]
  },
  {
   "cell_type": "code",
   "execution_count": null,
   "id": "fb98e7f6",
   "metadata": {},
   "outputs": [],
   "source": []
  },
  {
   "cell_type": "code",
   "execution_count": null,
   "id": "f2903fe7",
   "metadata": {},
   "outputs": [],
   "source": []
  },
  {
   "cell_type": "code",
   "execution_count": null,
   "id": "80ea9bf3",
   "metadata": {},
   "outputs": [],
   "source": []
  },
  {
   "cell_type": "code",
   "execution_count": null,
   "id": "30690887",
   "metadata": {},
   "outputs": [],
   "source": []
  },
  {
   "cell_type": "code",
   "execution_count": null,
   "id": "f21e6226",
   "metadata": {},
   "outputs": [],
   "source": []
  },
  {
   "cell_type": "code",
   "execution_count": null,
   "id": "fcd88205",
   "metadata": {},
   "outputs": [],
   "source": []
  },
  {
   "cell_type": "code",
   "execution_count": null,
   "id": "acac1f22",
   "metadata": {},
   "outputs": [],
   "source": []
  },
  {
   "cell_type": "code",
   "execution_count": null,
   "id": "5dc0465c",
   "metadata": {},
   "outputs": [],
   "source": []
  },
  {
   "cell_type": "code",
   "execution_count": null,
   "id": "48079a2e",
   "metadata": {},
   "outputs": [],
   "source": []
  }
 ],
 "metadata": {
  "kernelspec": {
   "display_name": "Python 3 (ipykernel)",
   "language": "python",
   "name": "python3"
  },
  "language_info": {
   "codemirror_mode": {
    "name": "ipython",
    "version": 3
   },
   "file_extension": ".py",
   "mimetype": "text/x-python",
   "name": "python",
   "nbconvert_exporter": "python",
   "pygments_lexer": "ipython3",
   "version": "3.9.12"
  }
 },
 "nbformat": 4,
 "nbformat_minor": 5
}
