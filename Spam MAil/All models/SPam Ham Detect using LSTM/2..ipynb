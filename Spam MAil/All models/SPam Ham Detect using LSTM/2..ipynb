{
 "cells": [
  {
   "cell_type": "code",
   "execution_count": 184,
   "id": "5f3ed335",
   "metadata": {},
   "outputs": [],
   "source": [
    "import numpy as np\n",
    "import pandas as pd \n",
    "import seaborn as sns\n",
    "import matplotlib.pyplot as plt\n",
    "%matplotlib inline"
   ]
  },
  {
   "cell_type": "code",
   "execution_count": 186,
   "id": "6f3de2ba",
   "metadata": {},
   "outputs": [
    {
     "data": {
      "text/html": [
       "<div>\n",
       "<style scoped>\n",
       "    .dataframe tbody tr th:only-of-type {\n",
       "        vertical-align: middle;\n",
       "    }\n",
       "\n",
       "    .dataframe tbody tr th {\n",
       "        vertical-align: top;\n",
       "    }\n",
       "\n",
       "    .dataframe thead th {\n",
       "        text-align: right;\n",
       "    }\n",
       "</style>\n",
       "<table border=\"1\" class=\"dataframe\">\n",
       "  <thead>\n",
       "    <tr style=\"text-align: right;\">\n",
       "      <th></th>\n",
       "      <th>label</th>\n",
       "      <th>text</th>\n",
       "    </tr>\n",
       "  </thead>\n",
       "  <tbody>\n",
       "    <tr>\n",
       "      <th>0</th>\n",
       "      <td>ham</td>\n",
       "      <td>enron methanol ; meter # : 988291\\r\\nthis is ...</td>\n",
       "    </tr>\n",
       "    <tr>\n",
       "      <th>1</th>\n",
       "      <td>ham</td>\n",
       "      <td>hpl nom for january 9 , 2001\\r\\n( see attache...</td>\n",
       "    </tr>\n",
       "    <tr>\n",
       "      <th>2</th>\n",
       "      <td>ham</td>\n",
       "      <td>neon retreat\\r\\nho ho ho , we ' re around to ...</td>\n",
       "    </tr>\n",
       "    <tr>\n",
       "      <th>3</th>\n",
       "      <td>spam</td>\n",
       "      <td>photoshop , windows , office . cheap . main t...</td>\n",
       "    </tr>\n",
       "    <tr>\n",
       "      <th>4</th>\n",
       "      <td>ham</td>\n",
       "      <td>re : indian springs\\r\\nthis deal is to book t...</td>\n",
       "    </tr>\n",
       "  </tbody>\n",
       "</table>\n",
       "</div>"
      ],
      "text/plain": [
       "  label                                               text\n",
       "0   ham   enron methanol ; meter # : 988291\\r\\nthis is ...\n",
       "1   ham   hpl nom for january 9 , 2001\\r\\n( see attache...\n",
       "2   ham   neon retreat\\r\\nho ho ho , we ' re around to ...\n",
       "3  spam   photoshop , windows , office . cheap . main t...\n",
       "4   ham   re : indian springs\\r\\nthis deal is to book t..."
      ]
     },
     "execution_count": 186,
     "metadata": {},
     "output_type": "execute_result"
    }
   ],
   "source": [
    "data=pd.read_csv(\"spam_ham_dataset (1).csv\")\n",
    "data.head()"
   ]
  },
  {
   "cell_type": "code",
   "execution_count": 187,
   "id": "829a0a39",
   "metadata": {},
   "outputs": [],
   "source": [
    "data.columns = [\"Category\",\"Message\"]"
   ]
  },
  {
   "cell_type": "code",
   "execution_count": 188,
   "id": "a2ad9c5c",
   "metadata": {},
   "outputs": [
    {
     "data": {
      "text/plain": [
       "Category    0\n",
       "Message     0\n",
       "dtype: int64"
      ]
     },
     "execution_count": 188,
     "metadata": {},
     "output_type": "execute_result"
    }
   ],
   "source": [
    "data.isnull().sum()"
   ]
  },
  {
   "cell_type": "code",
   "execution_count": 189,
   "id": "682ff50d",
   "metadata": {},
   "outputs": [],
   "source": [
    "data[\"Message Length\"]=data[\"Message\"].apply(len)"
   ]
  },
  {
   "cell_type": "code",
   "execution_count": 190,
   "id": "618056c1",
   "metadata": {},
   "outputs": [
    {
     "name": "stdout",
     "output_type": "stream",
     "text": [
      "Ham Messege Length Description:\n",
      " count     3672.000000\n",
      "mean       968.998366\n",
      "std       1382.830333\n",
      "min         10.000000\n",
      "25%        223.750000\n",
      "50%        522.000000\n",
      "75%       1219.250000\n",
      "max      32250.000000\n",
      "Name: Message Length, dtype: float64\n",
      "\n",
      "\n",
      "\n",
      "\n",
      "Spam Message Length Description:\n",
      " count     1499.000000\n",
      "mean      1215.244163\n",
      "std       1825.991729\n",
      "min          3.000000\n",
      "25%        275.000000\n",
      "50%        568.000000\n",
      "75%       1245.500000\n",
      "max      22065.000000\n",
      "Name: Message Length, dtype: float64\n"
     ]
    }
   ],
   "source": [
    "ham_desc=data[data[\"Category\"]==\"ham\"][\"Message Length\"].describe()\n",
    "spam_desc=data[data[\"Category\"]==\"spam\"][\"Message Length\"].describe()\n",
    "\n",
    "print(\"Ham Messege Length Description:\\n\",ham_desc)\n",
    "print()\n",
    "print()\n",
    "\n",
    "\n",
    "print()\n",
    "print()\n",
    "print(\"Spam Message Length Description:\\n\",spam_desc)"
   ]
  },
  {
   "cell_type": "code",
   "execution_count": 191,
   "id": "225afde9",
   "metadata": {},
   "outputs": [
    {
     "data": {
      "text/html": [
       "<div>\n",
       "<style scoped>\n",
       "    .dataframe tbody tr th:only-of-type {\n",
       "        vertical-align: middle;\n",
       "    }\n",
       "\n",
       "    .dataframe tbody tr th {\n",
       "        vertical-align: top;\n",
       "    }\n",
       "\n",
       "    .dataframe thead th {\n",
       "        text-align: right;\n",
       "    }\n",
       "</style>\n",
       "<table border=\"1\" class=\"dataframe\">\n",
       "  <thead>\n",
       "    <tr style=\"text-align: right;\">\n",
       "      <th></th>\n",
       "      <th>Category</th>\n",
       "      <th>Message</th>\n",
       "      <th>Message Length</th>\n",
       "    </tr>\n",
       "  </thead>\n",
       "  <tbody>\n",
       "    <tr>\n",
       "      <th>count</th>\n",
       "      <td>5171</td>\n",
       "      <td>5171</td>\n",
       "      <td>5171.000000</td>\n",
       "    </tr>\n",
       "    <tr>\n",
       "      <th>unique</th>\n",
       "      <td>2</td>\n",
       "      <td>4993</td>\n",
       "      <td>NaN</td>\n",
       "    </tr>\n",
       "    <tr>\n",
       "      <th>top</th>\n",
       "      <td>ham</td>\n",
       "      <td>calpine daily gas nomination\\r\\n&gt;\\r\\nricky a ...</td>\n",
       "      <td>NaN</td>\n",
       "    </tr>\n",
       "    <tr>\n",
       "      <th>freq</th>\n",
       "      <td>3672</td>\n",
       "      <td>20</td>\n",
       "      <td>NaN</td>\n",
       "    </tr>\n",
       "    <tr>\n",
       "      <th>mean</th>\n",
       "      <td>NaN</td>\n",
       "      <td>NaN</td>\n",
       "      <td>1040.381551</td>\n",
       "    </tr>\n",
       "    <tr>\n",
       "      <th>std</th>\n",
       "      <td>NaN</td>\n",
       "      <td>NaN</td>\n",
       "      <td>1528.517097</td>\n",
       "    </tr>\n",
       "    <tr>\n",
       "      <th>min</th>\n",
       "      <td>NaN</td>\n",
       "      <td>NaN</td>\n",
       "      <td>3.000000</td>\n",
       "    </tr>\n",
       "    <tr>\n",
       "      <th>25%</th>\n",
       "      <td>NaN</td>\n",
       "      <td>NaN</td>\n",
       "      <td>236.000000</td>\n",
       "    </tr>\n",
       "    <tr>\n",
       "      <th>50%</th>\n",
       "      <td>NaN</td>\n",
       "      <td>NaN</td>\n",
       "      <td>532.000000</td>\n",
       "    </tr>\n",
       "    <tr>\n",
       "      <th>75%</th>\n",
       "      <td>NaN</td>\n",
       "      <td>NaN</td>\n",
       "      <td>1229.000000</td>\n",
       "    </tr>\n",
       "    <tr>\n",
       "      <th>max</th>\n",
       "      <td>NaN</td>\n",
       "      <td>NaN</td>\n",
       "      <td>32250.000000</td>\n",
       "    </tr>\n",
       "  </tbody>\n",
       "</table>\n",
       "</div>"
      ],
      "text/plain": [
       "       Category                                            Message  \\\n",
       "count      5171                                               5171   \n",
       "unique        2                                               4993   \n",
       "top         ham   calpine daily gas nomination\\r\\n>\\r\\nricky a ...   \n",
       "freq       3672                                                 20   \n",
       "mean        NaN                                                NaN   \n",
       "std         NaN                                                NaN   \n",
       "min         NaN                                                NaN   \n",
       "25%         NaN                                                NaN   \n",
       "50%         NaN                                                NaN   \n",
       "75%         NaN                                                NaN   \n",
       "max         NaN                                                NaN   \n",
       "\n",
       "        Message Length  \n",
       "count      5171.000000  \n",
       "unique             NaN  \n",
       "top                NaN  \n",
       "freq               NaN  \n",
       "mean       1040.381551  \n",
       "std        1528.517097  \n",
       "min           3.000000  \n",
       "25%         236.000000  \n",
       "50%         532.000000  \n",
       "75%        1229.000000  \n",
       "max       32250.000000  "
      ]
     },
     "execution_count": 191,
     "metadata": {},
     "output_type": "execute_result"
    }
   ],
   "source": [
    "data.describe(include=\"all\")"
   ]
  },
  {
   "cell_type": "code",
   "execution_count": 192,
   "id": "86ac2525",
   "metadata": {},
   "outputs": [
    {
     "data": {
      "text/plain": [
       "ham     3672\n",
       "spam    1499\n",
       "Name: Category, dtype: int64"
      ]
     },
     "execution_count": 192,
     "metadata": {},
     "output_type": "execute_result"
    }
   ],
   "source": [
    "data[\"Category\"].value_counts()\n"
   ]
  },
  {
   "cell_type": "code",
   "execution_count": 193,
   "id": "b3713e08",
   "metadata": {},
   "outputs": [
    {
     "name": "stdout",
     "output_type": "stream",
     "text": [
      "Ham contains:71.01% of total data.\n",
      "Spam contains:28.99% of total data.\n"
     ]
    }
   ],
   "source": [
    "ham_count=data[\"Category\"].value_counts()[0]\n",
    "spam_count=data[\"Category\"].value_counts()[1]\n",
    "\n",
    "total_count=data.shape[0]\n",
    "\n",
    "print(\"Ham contains:{:.2f}% of total data.\".format(ham_count/total_count*100))\n",
    "print(\"Spam contains:{:.2f}% of total data.\".format(spam_count/total_count*100))"
   ]
  },
  {
   "cell_type": "code",
   "execution_count": 194,
   "id": "2a964497",
   "metadata": {},
   "outputs": [],
   "source": [
    "#compute the length of majority & minority class\n",
    "minority_len=len(data[data[\"Category\"]==\"spam\"])\n",
    "majority_len=len(data[data[\"Category\"]==\"ham\"])\n",
    "\n",
    "#store the indices of majority and minority class\n",
    "minority_indices=data[data[\"Category\"]==\"spam\"].index\n",
    "majority_indices=data[data[\"Category\"]==\"ham\"].index\n",
    "\n",
    "#generate new majority indices from the total majority_indices\n",
    "#with size equal to minority class length so we obtain equivalent number of indices length\n",
    "\n",
    "\n",
    "\n",
    "random_majority_indices=np.random.choice(\n",
    "    majority_indices,\n",
    "    size=minority_len,\n",
    "    replace=False\n",
    ")\n",
    "\n",
    "#concatenate the two indices to obtain indices of new dataframe\n",
    "undersampled_indices=np.concatenate([minority_indices,random_majority_indices])\n",
    "\n",
    "#create df using new indices\n",
    "df=data.loc[undersampled_indices]\n",
    "\n",
    "#shuffle the sample\n",
    "df=df.sample(frac=1)\n",
    "\n",
    "#reset the index as its all mixed\n",
    "df=df.reset_index()\n",
    "\n",
    "\n",
    "\n",
    "#drop the older index\n",
    "df=df.drop(\n",
    "    columns=[\"index\"],\n",
    ")"
   ]
  },
  {
   "cell_type": "code",
   "execution_count": 195,
   "id": "32d84974",
   "metadata": {},
   "outputs": [
    {
     "data": {
      "text/plain": [
       "(2998, 3)"
      ]
     },
     "execution_count": 195,
     "metadata": {},
     "output_type": "execute_result"
    }
   ],
   "source": [
    "df.shape\n"
   ]
  },
  {
   "cell_type": "code",
   "execution_count": 196,
   "id": "642255e9",
   "metadata": {},
   "outputs": [
    {
     "data": {
      "text/plain": [
       "ham     1499\n",
       "spam    1499\n",
       "Name: Category, dtype: int64"
      ]
     },
     "execution_count": 196,
     "metadata": {},
     "output_type": "execute_result"
    }
   ],
   "source": [
    "df[\"Category\"].value_counts()"
   ]
  },
  {
   "cell_type": "code",
   "execution_count": 197,
   "id": "803759a5",
   "metadata": {},
   "outputs": [
    {
     "data": {
      "text/html": [
       "<div>\n",
       "<style scoped>\n",
       "    .dataframe tbody tr th:only-of-type {\n",
       "        vertical-align: middle;\n",
       "    }\n",
       "\n",
       "    .dataframe tbody tr th {\n",
       "        vertical-align: top;\n",
       "    }\n",
       "\n",
       "    .dataframe thead th {\n",
       "        text-align: right;\n",
       "    }\n",
       "</style>\n",
       "<table border=\"1\" class=\"dataframe\">\n",
       "  <thead>\n",
       "    <tr style=\"text-align: right;\">\n",
       "      <th></th>\n",
       "      <th>Category</th>\n",
       "      <th>Message</th>\n",
       "      <th>Message Length</th>\n",
       "    </tr>\n",
       "  </thead>\n",
       "  <tbody>\n",
       "    <tr>\n",
       "      <th>0</th>\n",
       "      <td>ham</td>\n",
       "      <td>re : mtr 6063 - mokeen lateral\\r\\nvance ,\\r\\n...</td>\n",
       "      <td>957</td>\n",
       "    </tr>\n",
       "    <tr>\n",
       "      <th>1</th>\n",
       "      <td>spam</td>\n",
       "      <td>= ? iso - 8859 - 7 ? q ? = 5 b = 3 f = 5 d _ ...</td>\n",
       "      <td>608</td>\n",
       "    </tr>\n",
       "    <tr>\n",
       "      <th>2</th>\n",
       "      <td>ham</td>\n",
       "      <td>june vacation\\r\\nplease submit your june vaca...</td>\n",
       "      <td>94</td>\n",
       "    </tr>\n",
       "    <tr>\n",
       "      <th>3</th>\n",
       "      <td>spam</td>\n",
       "      <td>alert : spam prevention\\r\\nr 3 mov 3\\r\\nsll 0...</td>\n",
       "      <td>212</td>\n",
       "    </tr>\n",
       "    <tr>\n",
       "      <th>4</th>\n",
       "      <td>ham</td>\n",
       "      <td>5 th changes @ duke and air liquide\\r\\n- - - ...</td>\n",
       "      <td>440</td>\n",
       "    </tr>\n",
       "  </tbody>\n",
       "</table>\n",
       "</div>"
      ],
      "text/plain": [
       "  Category                                            Message  Message Length\n",
       "0      ham   re : mtr 6063 - mokeen lateral\\r\\nvance ,\\r\\n...             957\n",
       "1     spam   = ? iso - 8859 - 7 ? q ? = 5 b = 3 f = 5 d _ ...             608\n",
       "2      ham   june vacation\\r\\nplease submit your june vaca...              94\n",
       "3     spam   alert : spam prevention\\r\\nr 3 mov 3\\r\\nsll 0...             212\n",
       "4      ham   5 th changes @ duke and air liquide\\r\\n- - - ...             440"
      ]
     },
     "execution_count": 197,
     "metadata": {},
     "output_type": "execute_result"
    }
   ],
   "source": [
    "df.head()"
   ]
  },
  {
   "cell_type": "code",
   "execution_count": 198,
   "id": "2093a641",
   "metadata": {},
   "outputs": [],
   "source": [
    "df[\"Label\"]=df[\"Category\"].map(\n",
    "    {\n",
    "        \"ham\":0,\n",
    "        \"spam\":1\n",
    "    }\n",
    ")"
   ]
  },
  {
   "cell_type": "code",
   "execution_count": 199,
   "id": "e2efb7e9",
   "metadata": {},
   "outputs": [
    {
     "data": {
      "text/html": [
       "<div>\n",
       "<style scoped>\n",
       "    .dataframe tbody tr th:only-of-type {\n",
       "        vertical-align: middle;\n",
       "    }\n",
       "\n",
       "    .dataframe tbody tr th {\n",
       "        vertical-align: top;\n",
       "    }\n",
       "\n",
       "    .dataframe thead th {\n",
       "        text-align: right;\n",
       "    }\n",
       "</style>\n",
       "<table border=\"1\" class=\"dataframe\">\n",
       "  <thead>\n",
       "    <tr style=\"text-align: right;\">\n",
       "      <th></th>\n",
       "      <th>Category</th>\n",
       "      <th>Message</th>\n",
       "      <th>Message Length</th>\n",
       "      <th>Label</th>\n",
       "    </tr>\n",
       "  </thead>\n",
       "  <tbody>\n",
       "    <tr>\n",
       "      <th>0</th>\n",
       "      <td>ham</td>\n",
       "      <td>re : mtr 6063 - mokeen lateral\\r\\nvance ,\\r\\n...</td>\n",
       "      <td>957</td>\n",
       "      <td>0</td>\n",
       "    </tr>\n",
       "    <tr>\n",
       "      <th>1</th>\n",
       "      <td>spam</td>\n",
       "      <td>= ? iso - 8859 - 7 ? q ? = 5 b = 3 f = 5 d _ ...</td>\n",
       "      <td>608</td>\n",
       "      <td>1</td>\n",
       "    </tr>\n",
       "    <tr>\n",
       "      <th>2</th>\n",
       "      <td>ham</td>\n",
       "      <td>june vacation\\r\\nplease submit your june vaca...</td>\n",
       "      <td>94</td>\n",
       "      <td>0</td>\n",
       "    </tr>\n",
       "    <tr>\n",
       "      <th>3</th>\n",
       "      <td>spam</td>\n",
       "      <td>alert : spam prevention\\r\\nr 3 mov 3\\r\\nsll 0...</td>\n",
       "      <td>212</td>\n",
       "      <td>1</td>\n",
       "    </tr>\n",
       "    <tr>\n",
       "      <th>4</th>\n",
       "      <td>ham</td>\n",
       "      <td>5 th changes @ duke and air liquide\\r\\n- - - ...</td>\n",
       "      <td>440</td>\n",
       "      <td>0</td>\n",
       "    </tr>\n",
       "  </tbody>\n",
       "</table>\n",
       "</div>"
      ],
      "text/plain": [
       "  Category                                            Message  Message Length  \\\n",
       "0      ham   re : mtr 6063 - mokeen lateral\\r\\nvance ,\\r\\n...             957   \n",
       "1     spam   = ? iso - 8859 - 7 ? q ? = 5 b = 3 f = 5 d _ ...             608   \n",
       "2      ham   june vacation\\r\\nplease submit your june vaca...              94   \n",
       "3     spam   alert : spam prevention\\r\\nr 3 mov 3\\r\\nsll 0...             212   \n",
       "4      ham   5 th changes @ duke and air liquide\\r\\n- - - ...             440   \n",
       "\n",
       "   Label  \n",
       "0      0  \n",
       "1      1  \n",
       "2      0  \n",
       "3      1  \n",
       "4      0  "
      ]
     },
     "execution_count": 199,
     "metadata": {},
     "output_type": "execute_result"
    }
   ],
   "source": [
    "df.head()"
   ]
  },
  {
   "cell_type": "code",
   "execution_count": 200,
   "id": "00918c19",
   "metadata": {},
   "outputs": [],
   "source": [
    "# Import libraries to perform word tokenization"
   ]
  },
  {
   "cell_type": "code",
   "execution_count": 201,
   "id": "9341e27f",
   "metadata": {},
   "outputs": [],
   "source": [
    "import re\n",
    "import nltk\n",
    "from nltk.corpus import stopwords\n",
    "from nltk.stem import PorterStemmer\n",
    "stemmer=PorterStemmer()"
   ]
  },
  {
   "cell_type": "code",
   "execution_count": 202,
   "id": "d657a913",
   "metadata": {},
   "outputs": [
    {
     "name": "stderr",
     "output_type": "stream",
     "text": [
      "[nltk_data] Downloading package punkt to\n",
      "[nltk_data]     C:\\Users\\sweta\\AppData\\Roaming\\nltk_data...\n",
      "[nltk_data]   Package punkt is already up-to-date!\n"
     ]
    },
    {
     "data": {
      "text/plain": [
       "True"
      ]
     },
     "execution_count": 202,
     "metadata": {},
     "output_type": "execute_result"
    }
   ],
   "source": [
    "import nltk\n",
    "nltk.download('punkt')"
   ]
  },
  {
   "cell_type": "code",
   "execution_count": 203,
   "id": "1bfbfe11",
   "metadata": {},
   "outputs": [],
   "source": [
    "#declare empty list to store tokenized message\n",
    "corpus=[]\n",
    "\n",
    "#iterate through the df[\"Message\"]\n",
    "for message in df[\"Message\"]:\n",
    "    \n",
    "    #replace every special characters, numbers etc.. with whitespace of message\n",
    "    #It will help retain only letter/alphabets\n",
    "    message=re.sub(\"[^a-zA-Z]\",\" \",message)\n",
    "    \n",
    "    #convert every letters to its lowercase\n",
    "    message=message.lower()\n",
    "    \n",
    "    #split the word into individual word list\n",
    "    message=message.split()\n",
    "    message=[stemmer.stem(words)\n",
    "        for words in message\n",
    "         if words not in set(stopwords.words(\"english\"))\n",
    "        ]\n",
    "    #join the word lists with the whitespace\n",
    "    message=\" \".join(message)\n",
    "\n",
    "    #append the message in corpus list\n",
    "    corpus.append(message)"
   ]
  },
  {
   "cell_type": "code",
   "execution_count": 204,
   "id": "b2ced2f5",
   "metadata": {},
   "outputs": [],
   "source": [
    "from tensorflow.keras.preprocessing.text import one_hot\n",
    "vocab_size=10000\n",
    "\n",
    "oneHot_doc=[one_hot(words,n=vocab_size)\n",
    "           for words in corpus\n",
    "           ]"
   ]
  },
  {
   "cell_type": "code",
   "execution_count": 205,
   "id": "3cd4cb24",
   "metadata": {},
   "outputs": [
    {
     "data": {
      "text/plain": [
       "count     2998.00000\n",
       "mean      1095.43429\n",
       "std       1679.66201\n",
       "min          3.00000\n",
       "25%        243.25000\n",
       "50%        538.50000\n",
       "75%       1222.75000\n",
       "max      32250.00000\n",
       "Name: Message Length, dtype: float64"
      ]
     },
     "execution_count": 205,
     "metadata": {},
     "output_type": "execute_result"
    }
   ],
   "source": [
    "df[\"Message Length\"].describe()"
   ]
  },
  {
   "cell_type": "code",
   "execution_count": 206,
   "id": "1fb41093",
   "metadata": {},
   "outputs": [],
   "source": [
    "from tensorflow.keras.preprocessing.sequence import pad_sequences\n",
    "sentence_len=200\n",
    "embedded_doc=pad_sequences(\n",
    "    oneHot_doc,\n",
    "    maxlen=sentence_len,\n",
    "    padding=\"pre\"\n",
    ")"
   ]
  },
  {
   "cell_type": "code",
   "execution_count": 207,
   "id": "756cdb64",
   "metadata": {},
   "outputs": [],
   "source": [
    "extract_features=pd.DataFrame(\n",
    "    data=embedded_doc\n",
    ")\n",
    "target=df[\"Label\"]"
   ]
  },
  {
   "cell_type": "code",
   "execution_count": 208,
   "id": "739ab328",
   "metadata": {},
   "outputs": [],
   "source": [
    "df_final=pd.concat([extract_features,target],axis=1)"
   ]
  },
  {
   "cell_type": "code",
   "execution_count": 209,
   "id": "89e92550",
   "metadata": {},
   "outputs": [
    {
     "data": {
      "text/html": [
       "<div>\n",
       "<style scoped>\n",
       "    .dataframe tbody tr th:only-of-type {\n",
       "        vertical-align: middle;\n",
       "    }\n",
       "\n",
       "    .dataframe tbody tr th {\n",
       "        vertical-align: top;\n",
       "    }\n",
       "\n",
       "    .dataframe thead th {\n",
       "        text-align: right;\n",
       "    }\n",
       "</style>\n",
       "<table border=\"1\" class=\"dataframe\">\n",
       "  <thead>\n",
       "    <tr style=\"text-align: right;\">\n",
       "      <th></th>\n",
       "      <th>0</th>\n",
       "      <th>1</th>\n",
       "      <th>2</th>\n",
       "      <th>3</th>\n",
       "      <th>4</th>\n",
       "      <th>5</th>\n",
       "      <th>6</th>\n",
       "      <th>7</th>\n",
       "      <th>8</th>\n",
       "      <th>9</th>\n",
       "      <th>...</th>\n",
       "      <th>191</th>\n",
       "      <th>192</th>\n",
       "      <th>193</th>\n",
       "      <th>194</th>\n",
       "      <th>195</th>\n",
       "      <th>196</th>\n",
       "      <th>197</th>\n",
       "      <th>198</th>\n",
       "      <th>199</th>\n",
       "      <th>Label</th>\n",
       "    </tr>\n",
       "  </thead>\n",
       "  <tbody>\n",
       "    <tr>\n",
       "      <th>0</th>\n",
       "      <td>0</td>\n",
       "      <td>0</td>\n",
       "      <td>0</td>\n",
       "      <td>0</td>\n",
       "      <td>0</td>\n",
       "      <td>0</td>\n",
       "      <td>0</td>\n",
       "      <td>0</td>\n",
       "      <td>0</td>\n",
       "      <td>0</td>\n",
       "      <td>...</td>\n",
       "      <td>6698</td>\n",
       "      <td>9134</td>\n",
       "      <td>759</td>\n",
       "      <td>6698</td>\n",
       "      <td>9569</td>\n",
       "      <td>9699</td>\n",
       "      <td>8024</td>\n",
       "      <td>1174</td>\n",
       "      <td>2007</td>\n",
       "      <td>0</td>\n",
       "    </tr>\n",
       "    <tr>\n",
       "      <th>1</th>\n",
       "      <td>0</td>\n",
       "      <td>0</td>\n",
       "      <td>0</td>\n",
       "      <td>0</td>\n",
       "      <td>0</td>\n",
       "      <td>0</td>\n",
       "      <td>0</td>\n",
       "      <td>0</td>\n",
       "      <td>0</td>\n",
       "      <td>0</td>\n",
       "      <td>...</td>\n",
       "      <td>7373</td>\n",
       "      <td>8697</td>\n",
       "      <td>6277</td>\n",
       "      <td>2329</td>\n",
       "      <td>2523</td>\n",
       "      <td>7517</td>\n",
       "      <td>8782</td>\n",
       "      <td>7002</td>\n",
       "      <td>5298</td>\n",
       "      <td>1</td>\n",
       "    </tr>\n",
       "    <tr>\n",
       "      <th>2</th>\n",
       "      <td>0</td>\n",
       "      <td>0</td>\n",
       "      <td>0</td>\n",
       "      <td>0</td>\n",
       "      <td>0</td>\n",
       "      <td>0</td>\n",
       "      <td>0</td>\n",
       "      <td>0</td>\n",
       "      <td>0</td>\n",
       "      <td>0</td>\n",
       "      <td>...</td>\n",
       "      <td>9074</td>\n",
       "      <td>6698</td>\n",
       "      <td>8971</td>\n",
       "      <td>9796</td>\n",
       "      <td>9074</td>\n",
       "      <td>4714</td>\n",
       "      <td>8024</td>\n",
       "      <td>4990</td>\n",
       "      <td>2007</td>\n",
       "      <td>0</td>\n",
       "    </tr>\n",
       "    <tr>\n",
       "      <th>3</th>\n",
       "      <td>0</td>\n",
       "      <td>0</td>\n",
       "      <td>0</td>\n",
       "      <td>0</td>\n",
       "      <td>0</td>\n",
       "      <td>0</td>\n",
       "      <td>0</td>\n",
       "      <td>0</td>\n",
       "      <td>0</td>\n",
       "      <td>0</td>\n",
       "      <td>...</td>\n",
       "      <td>410</td>\n",
       "      <td>9286</td>\n",
       "      <td>5868</td>\n",
       "      <td>8758</td>\n",
       "      <td>3288</td>\n",
       "      <td>6364</td>\n",
       "      <td>3824</td>\n",
       "      <td>3027</td>\n",
       "      <td>3270</td>\n",
       "      <td>1</td>\n",
       "    </tr>\n",
       "    <tr>\n",
       "      <th>4</th>\n",
       "      <td>0</td>\n",
       "      <td>0</td>\n",
       "      <td>0</td>\n",
       "      <td>0</td>\n",
       "      <td>0</td>\n",
       "      <td>0</td>\n",
       "      <td>0</td>\n",
       "      <td>0</td>\n",
       "      <td>0</td>\n",
       "      <td>0</td>\n",
       "      <td>...</td>\n",
       "      <td>803</td>\n",
       "      <td>1748</td>\n",
       "      <td>7903</td>\n",
       "      <td>291</td>\n",
       "      <td>5644</td>\n",
       "      <td>1556</td>\n",
       "      <td>291</td>\n",
       "      <td>5644</td>\n",
       "      <td>1556</td>\n",
       "      <td>0</td>\n",
       "    </tr>\n",
       "  </tbody>\n",
       "</table>\n",
       "<p>5 rows × 201 columns</p>\n",
       "</div>"
      ],
      "text/plain": [
       "   0  1  2  3  4  5  6  7  8  9  ...   191   192   193   194   195   196  \\\n",
       "0  0  0  0  0  0  0  0  0  0  0  ...  6698  9134   759  6698  9569  9699   \n",
       "1  0  0  0  0  0  0  0  0  0  0  ...  7373  8697  6277  2329  2523  7517   \n",
       "2  0  0  0  0  0  0  0  0  0  0  ...  9074  6698  8971  9796  9074  4714   \n",
       "3  0  0  0  0  0  0  0  0  0  0  ...   410  9286  5868  8758  3288  6364   \n",
       "4  0  0  0  0  0  0  0  0  0  0  ...   803  1748  7903   291  5644  1556   \n",
       "\n",
       "    197   198   199  Label  \n",
       "0  8024  1174  2007      0  \n",
       "1  8782  7002  5298      1  \n",
       "2  8024  4990  2007      0  \n",
       "3  3824  3027  3270      1  \n",
       "4   291  5644  1556      0  \n",
       "\n",
       "[5 rows x 201 columns]"
      ]
     },
     "execution_count": 209,
     "metadata": {},
     "output_type": "execute_result"
    }
   ],
   "source": [
    "df_final.head()"
   ]
  },
  {
   "cell_type": "code",
   "execution_count": 210,
   "id": "fa1aaef0",
   "metadata": {},
   "outputs": [],
   "source": [
    "X=df_final.drop(\"Label\",axis=1)\n",
    "y=df_final[\"Label\"]"
   ]
  },
  {
   "cell_type": "code",
   "execution_count": 211,
   "id": "e1d396ee",
   "metadata": {},
   "outputs": [],
   "source": [
    "from sklearn.model_selection import train_test_split"
   ]
  },
  {
   "cell_type": "code",
   "execution_count": 212,
   "id": "fb2e779f",
   "metadata": {},
   "outputs": [],
   "source": [
    "X_trainval,X_test,y_trainval,y_test=train_test_split(\n",
    "    X,\n",
    "    y,\n",
    "    random_state=42,\n",
    "    test_size=0.15\n",
    ")"
   ]
  },
  {
   "cell_type": "code",
   "execution_count": 213,
   "id": "e7afe2cd",
   "metadata": {},
   "outputs": [],
   "source": [
    "X_train,X_val,y_train,y_val=train_test_split(\n",
    "    X_trainval,\n",
    "    y_trainval,\n",
    "    random_state=42,\n",
    "    test_size=0.15\n",
    ")"
   ]
  },
  {
   "cell_type": "code",
   "execution_count": 214,
   "id": "260796cb",
   "metadata": {},
   "outputs": [],
   "source": [
    "from tensorflow.keras.layers import LSTM\n",
    "from tensorflow.keras.layers import Dense\n",
    "from tensorflow.keras.layers import Embedding\n",
    "from tensorflow.keras.models import Sequential"
   ]
  },
  {
   "cell_type": "code",
   "execution_count": 215,
   "id": "0e4408e4",
   "metadata": {},
   "outputs": [],
   "source": [
    "model=Sequential()"
   ]
  },
  {
   "cell_type": "code",
   "execution_count": 216,
   "id": "feabe3d9",
   "metadata": {},
   "outputs": [],
   "source": [
    "feature_num=100\n",
    "model.add(\n",
    "    Embedding(\n",
    "        input_dim=vocab_size,\n",
    "        output_dim=feature_num,\n",
    "        input_length=sentence_len\n",
    "    )\n",
    ")\n",
    "model.add(\n",
    "    LSTM(\n",
    "    units=128\n",
    "    )\n",
    ")\n",
    "\n",
    "model.add(\n",
    "    Dense(\n",
    "        units=1,\n",
    "        activation=\"sigmoid\"\n",
    "    )\n",
    ")\n"
   ]
  },
  {
   "cell_type": "code",
   "execution_count": 217,
   "id": "a47778ba",
   "metadata": {},
   "outputs": [],
   "source": [
    "from tensorflow.keras.optimizers import Adam\n",
    "model.compile(\n",
    "    optimizer=Adam(\n",
    "    learning_rate=0.001\n",
    "    ),\n",
    "    loss=\"binary_crossentropy\",\n",
    "    metrics=[\"accuracy\"]\n",
    ")"
   ]
  },
  {
   "cell_type": "code",
   "execution_count": 218,
   "id": "978a3dc0",
   "metadata": {},
   "outputs": [
    {
     "name": "stdout",
     "output_type": "stream",
     "text": [
      "Epoch 1/10\n",
      "68/68 [==============================] - 14s 182ms/step - loss: 0.4609 - accuracy: 0.8420 - val_loss: 0.1835 - val_accuracy: 0.9426\n",
      "Epoch 2/10\n",
      "68/68 [==============================] - 11s 163ms/step - loss: 0.1184 - accuracy: 0.9727 - val_loss: 0.0868 - val_accuracy: 0.9713\n",
      "Epoch 3/10\n",
      "68/68 [==============================] - 11s 159ms/step - loss: 0.0553 - accuracy: 0.9931 - val_loss: 0.0673 - val_accuracy: 0.9791\n",
      "Epoch 4/10\n",
      "68/68 [==============================] - 11s 160ms/step - loss: 0.0152 - accuracy: 0.9972 - val_loss: 0.0750 - val_accuracy: 0.9791\n",
      "Epoch 5/10\n",
      "68/68 [==============================] - 11s 161ms/step - loss: 0.0152 - accuracy: 0.9958 - val_loss: 0.0666 - val_accuracy: 0.9791\n",
      "Epoch 6/10\n",
      "68/68 [==============================] - 11s 159ms/step - loss: 0.0038 - accuracy: 0.9991 - val_loss: 0.0574 - val_accuracy: 0.9817\n",
      "Epoch 7/10\n",
      "68/68 [==============================] - 11s 158ms/step - loss: 0.0029 - accuracy: 0.9991 - val_loss: 0.0568 - val_accuracy: 0.9817\n",
      "Epoch 8/10\n",
      "68/68 [==============================] - 11s 161ms/step - loss: 0.0020 - accuracy: 1.0000 - val_loss: 0.0713 - val_accuracy: 0.9843\n",
      "Epoch 9/10\n",
      "68/68 [==============================] - 11s 167ms/step - loss: 0.0020 - accuracy: 0.9995 - val_loss: 0.0573 - val_accuracy: 0.9843\n",
      "Epoch 10/10\n",
      "68/68 [==============================] - 11s 163ms/step - loss: 0.0018 - accuracy: 0.9995 - val_loss: 0.0485 - val_accuracy: 0.9896\n"
     ]
    },
    {
     "data": {
      "text/plain": [
       "<keras.callbacks.History at 0x2c206b97580>"
      ]
     },
     "execution_count": 218,
     "metadata": {},
     "output_type": "execute_result"
    }
   ],
   "source": [
    "model.fit(\n",
    "    X_train,\n",
    "    y_train,\n",
    "    validation_data=(\n",
    "        X_val,\n",
    "        y_val\n",
    "    ),\n",
    "    epochs=10\n",
    ")"
   ]
  },
  {
   "cell_type": "code",
   "execution_count": 219,
   "id": "b61ed203",
   "metadata": {},
   "outputs": [
    {
     "name": "stdout",
     "output_type": "stream",
     "text": [
      "15/15 [==============================] - 1s 48ms/step\n"
     ]
    }
   ],
   "source": [
    "y_pred=model.predict(X_test)\n",
    "y_pred=(y_pred>0.6)"
   ]
  },
  {
   "cell_type": "code",
   "execution_count": 220,
   "id": "e1a61ffd",
   "metadata": {},
   "outputs": [],
   "source": [
    "from sklearn.metrics import accuracy_score"
   ]
  },
  {
   "cell_type": "code",
   "execution_count": 221,
   "id": "b1c5d56c",
   "metadata": {},
   "outputs": [
    {
     "name": "stdout",
     "output_type": "stream",
     "text": [
      "Test Score:97.56%\n"
     ]
    }
   ],
   "source": [
    "score=accuracy_score(y_test,y_pred)\n",
    "print(\"Test Score:{:.2f}%\".format(score*100))"
   ]
  },
  {
   "cell_type": "code",
   "execution_count": 222,
   "id": "a30f89d8",
   "metadata": {},
   "outputs": [],
   "source": [
    "#The function take model and message as parameter\n",
    "def classify_message(model,message):\n",
    "    \n",
    "    #We will treat message as a paragraphs containing multiple sentences(lines)\n",
    "    #we will extract individual lines\n",
    "    for sentences in message:\n",
    "        sentences=nltk.sent_tokenize(message)\n",
    "        \n",
    "        #Iterate over individual sentences\n",
    "        for sentence in sentences:\n",
    "            #replace all special characters\n",
    "            words=re.sub(\"[^a-zA-Z]\",\" \",sentence)\n",
    "            \n",
    "            #perform word tokenization of all non-english-stopwords\n",
    "            if words not in set(stopwords.words('english')):\n",
    "                word=nltk.word_tokenize(words)\n",
    "                word=\" \".join(word)\n",
    "        #perform one_hot on tokenized word            \n",
    "    oneHot=[one_hot(word,n=vocab_size)]\n",
    "    \n",
    "    #create an embedded documnet using pad_sequences \n",
    "    #this can be fed to our model\n",
    "    text=pad_sequences(oneHot,maxlen=sentence_len,padding=\"pre\")\n",
    "    \n",
    "    #predict the text using model\n",
    "    predict=model.predict(text)\n",
    "    \n",
    "    #if predict value is greater than 0.5 its a spam\n",
    "    if predict>0.5:\n",
    "        print(\"It is a spam\")\n",
    "    #else the message is not a spam    \n",
    "    else:\n",
    "        print(\"It is not a spam\")"
   ]
  },
  {
   "cell_type": "code",
   "execution_count": 223,
   "id": "6d085948",
   "metadata": {},
   "outputs": [],
   "source": [
    "message1=\"I am having a bad day and I would like to have a break today\"\n",
    "message2=\"This is to inform you had won a lottery and the subscription will end in a week so call us.\""
   ]
  },
  {
   "cell_type": "code",
   "execution_count": 224,
   "id": "d5ca3cec",
   "metadata": {},
   "outputs": [
    {
     "name": "stdout",
     "output_type": "stream",
     "text": [
      "1/1 [==============================] - 0s 37ms/step\n",
      "It is a spam\n"
     ]
    }
   ],
   "source": [
    "classify_message(model,message1)"
   ]
  },
  {
   "cell_type": "code",
   "execution_count": 229,
   "id": "fa2946eb",
   "metadata": {},
   "outputs": [
    {
     "name": "stdout",
     "output_type": "stream",
     "text": [
      "1/1 [==============================] - 0s 32ms/step\n",
      "It is a spam\n"
     ]
    }
   ],
   "source": [
    "classify_message(model,message)"
   ]
  },
  {
   "cell_type": "code",
   "execution_count": 228,
   "id": "4d91a9dc",
   "metadata": {},
   "outputs": [],
   "source": [
    "message = \"You are awarded a Nikon Digital Camera. Call now\""
   ]
  },
  {
   "cell_type": "code",
   "execution_count": null,
   "id": "7e94903e",
   "metadata": {},
   "outputs": [],
   "source": []
  },
  {
   "cell_type": "code",
   "execution_count": null,
   "id": "555260bc",
   "metadata": {},
   "outputs": [],
   "source": []
  },
  {
   "cell_type": "code",
   "execution_count": null,
   "id": "cdd129a8",
   "metadata": {},
   "outputs": [],
   "source": []
  },
  {
   "cell_type": "code",
   "execution_count": null,
   "id": "8f307da2",
   "metadata": {},
   "outputs": [],
   "source": []
  },
  {
   "cell_type": "code",
   "execution_count": null,
   "id": "0b5a5545",
   "metadata": {},
   "outputs": [],
   "source": []
  },
  {
   "cell_type": "code",
   "execution_count": null,
   "id": "52f0a354",
   "metadata": {},
   "outputs": [],
   "source": []
  }
 ],
 "metadata": {
  "kernelspec": {
   "display_name": "Python 3 (ipykernel)",
   "language": "python",
   "name": "python3"
  },
  "language_info": {
   "codemirror_mode": {
    "name": "ipython",
    "version": 3
   },
   "file_extension": ".py",
   "mimetype": "text/x-python",
   "name": "python",
   "nbconvert_exporter": "python",
   "pygments_lexer": "ipython3",
   "version": "3.9.12"
  }
 },
 "nbformat": 4,
 "nbformat_minor": 5
}
