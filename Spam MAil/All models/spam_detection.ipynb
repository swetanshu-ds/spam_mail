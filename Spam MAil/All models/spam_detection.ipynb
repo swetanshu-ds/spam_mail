{
 "cells": [
  {
   "cell_type": "markdown",
   "metadata": {
    "id": "8gEVQHSCP4sC"
   },
   "source": [
    "### IMPORTS\n",
    "\n",
    "---\n",
    "\n",
    "\n",
    "\n"
   ]
  },
  {
   "cell_type": "code",
   "execution_count": 50,
   "metadata": {},
   "outputs": [],
   "source": [
    "import numpy as np\n",
    "import pandas as pd"
   ]
  },
  {
   "cell_type": "code",
   "execution_count": 51,
   "metadata": {},
   "outputs": [],
   "source": [
    "df = pd.read_csv(\"spam.csv\",\n",
    "                      encoding=\"latin1\")"
   ]
  },
  {
   "cell_type": "code",
   "execution_count": 52,
   "metadata": {},
   "outputs": [],
   "source": [
    "# get rid of unneccessary columns\n",
    "df.drop([\"Unnamed: 2\", \"Unnamed: 3\", \"Unnamed: 4\"],\n",
    "          axis=1,\n",
    "          inplace=True)"
   ]
  },
  {
   "cell_type": "code",
   "execution_count": 53,
   "metadata": {},
   "outputs": [],
   "source": [
    "df.columns = ['labels','Message']"
   ]
  },
  {
   "cell_type": "code",
   "execution_count": 54,
   "metadata": {},
   "outputs": [
    {
     "data": {
      "text/html": [
       "<div>\n",
       "<style scoped>\n",
       "    .dataframe tbody tr th:only-of-type {\n",
       "        vertical-align: middle;\n",
       "    }\n",
       "\n",
       "    .dataframe tbody tr th {\n",
       "        vertical-align: top;\n",
       "    }\n",
       "\n",
       "    .dataframe thead th {\n",
       "        text-align: right;\n",
       "    }\n",
       "</style>\n",
       "<table border=\"1\" class=\"dataframe\">\n",
       "  <thead>\n",
       "    <tr style=\"text-align: right;\">\n",
       "      <th></th>\n",
       "      <th>labels</th>\n",
       "      <th>Message</th>\n",
       "    </tr>\n",
       "  </thead>\n",
       "  <tbody>\n",
       "    <tr>\n",
       "      <th>0</th>\n",
       "      <td>ham</td>\n",
       "      <td>Go until jurong point, crazy.. Available only ...</td>\n",
       "    </tr>\n",
       "    <tr>\n",
       "      <th>1</th>\n",
       "      <td>ham</td>\n",
       "      <td>Ok lar... Joking wif u oni...</td>\n",
       "    </tr>\n",
       "    <tr>\n",
       "      <th>2</th>\n",
       "      <td>spam</td>\n",
       "      <td>Free entry in 2 a wkly comp to win FA Cup fina...</td>\n",
       "    </tr>\n",
       "    <tr>\n",
       "      <th>3</th>\n",
       "      <td>ham</td>\n",
       "      <td>U dun say so early hor... U c already then say...</td>\n",
       "    </tr>\n",
       "    <tr>\n",
       "      <th>4</th>\n",
       "      <td>ham</td>\n",
       "      <td>Nah I don't think he goes to usf, he lives aro...</td>\n",
       "    </tr>\n",
       "  </tbody>\n",
       "</table>\n",
       "</div>"
      ],
      "text/plain": [
       "  labels                                            Message\n",
       "0    ham  Go until jurong point, crazy.. Available only ...\n",
       "1    ham                      Ok lar... Joking wif u oni...\n",
       "2   spam  Free entry in 2 a wkly comp to win FA Cup fina...\n",
       "3    ham  U dun say so early hor... U c already then say...\n",
       "4    ham  Nah I don't think he goes to usf, he lives aro..."
      ]
     },
     "execution_count": 54,
     "metadata": {},
     "output_type": "execute_result"
    }
   ],
   "source": [
    "df.head()"
   ]
  },
  {
   "cell_type": "code",
   "execution_count": 55,
   "metadata": {},
   "outputs": [],
   "source": [
    "df['label_tag'] = df[\"labels\"].map({\"ham\":0,\"spam\":1})"
   ]
  },
  {
   "cell_type": "code",
   "execution_count": 56,
   "metadata": {},
   "outputs": [
    {
     "data": {
      "text/html": [
       "<div>\n",
       "<style scoped>\n",
       "    .dataframe tbody tr th:only-of-type {\n",
       "        vertical-align: middle;\n",
       "    }\n",
       "\n",
       "    .dataframe tbody tr th {\n",
       "        vertical-align: top;\n",
       "    }\n",
       "\n",
       "    .dataframe thead th {\n",
       "        text-align: right;\n",
       "    }\n",
       "</style>\n",
       "<table border=\"1\" class=\"dataframe\">\n",
       "  <thead>\n",
       "    <tr style=\"text-align: right;\">\n",
       "      <th></th>\n",
       "      <th>labels</th>\n",
       "      <th>Message</th>\n",
       "      <th>label_tag</th>\n",
       "    </tr>\n",
       "  </thead>\n",
       "  <tbody>\n",
       "    <tr>\n",
       "      <th>0</th>\n",
       "      <td>ham</td>\n",
       "      <td>Go until jurong point, crazy.. Available only ...</td>\n",
       "      <td>0</td>\n",
       "    </tr>\n",
       "    <tr>\n",
       "      <th>1</th>\n",
       "      <td>ham</td>\n",
       "      <td>Ok lar... Joking wif u oni...</td>\n",
       "      <td>0</td>\n",
       "    </tr>\n",
       "    <tr>\n",
       "      <th>2</th>\n",
       "      <td>spam</td>\n",
       "      <td>Free entry in 2 a wkly comp to win FA Cup fina...</td>\n",
       "      <td>1</td>\n",
       "    </tr>\n",
       "    <tr>\n",
       "      <th>3</th>\n",
       "      <td>ham</td>\n",
       "      <td>U dun say so early hor... U c already then say...</td>\n",
       "      <td>0</td>\n",
       "    </tr>\n",
       "    <tr>\n",
       "      <th>4</th>\n",
       "      <td>ham</td>\n",
       "      <td>Nah I don't think he goes to usf, he lives aro...</td>\n",
       "      <td>0</td>\n",
       "    </tr>\n",
       "  </tbody>\n",
       "</table>\n",
       "</div>"
      ],
      "text/plain": [
       "  labels                                            Message  label_tag\n",
       "0    ham  Go until jurong point, crazy.. Available only ...          0\n",
       "1    ham                      Ok lar... Joking wif u oni...          0\n",
       "2   spam  Free entry in 2 a wkly comp to win FA Cup fina...          1\n",
       "3    ham  U dun say so early hor... U c already then say...          0\n",
       "4    ham  Nah I don't think he goes to usf, he lives aro...          0"
      ]
     },
     "execution_count": 56,
     "metadata": {},
     "output_type": "execute_result"
    }
   ],
   "source": [
    "df.head()"
   ]
  },
  {
   "cell_type": "code",
   "execution_count": 57,
   "metadata": {},
   "outputs": [],
   "source": [
    "y = df.iloc[:,-1]"
   ]
  },
  {
   "cell_type": "code",
   "execution_count": 58,
   "metadata": {},
   "outputs": [],
   "source": [
    "X = df.iloc[:,1:]"
   ]
  },
  {
   "cell_type": "code",
   "execution_count": 59,
   "metadata": {},
   "outputs": [],
   "source": [
    "from sklearn.model_selection import train_test_split\n",
    "X_train, X_test, y_train, y_test=train_test_split(X, y, test_size=0.15, random_state=4)"
   ]
  },
  {
   "cell_type": "code",
   "execution_count": 60,
   "metadata": {},
   "outputs": [],
   "source": [
    "from sklearn.feature_extraction.text import TfidfVectorizer"
   ]
  },
  {
   "cell_type": "code",
   "execution_count": 61,
   "metadata": {},
   "outputs": [],
   "source": [
    "tfidf  = TfidfVectorizer(min_df = 1,stop_words = 'english', lowercase = 'True')"
   ]
  },
  {
   "cell_type": "code",
   "execution_count": 62,
   "metadata": {},
   "outputs": [
    {
     "name": "stdout",
     "output_type": "stream",
     "text": [
      "  (0, 3103)\t0.5421454775653566\n",
      "  (0, 7304)\t0.37271195763760273\n",
      "  (0, 2177)\t0.2895581893858797\n",
      "  (0, 7322)\t0.46470205236196555\n",
      "  (0, 6211)\t0.5170803953734132\n",
      "  (1, 827)\t0.5278284887733855\n",
      "  (1, 1308)\t0.5278284887733855\n",
      "  (1, 5790)\t0.5278284887733855\n",
      "  (1, 1771)\t0.4052052064295474\n",
      "  (2, 4315)\t0.3435706926981149\n",
      "  (2, 2882)\t0.35439042050157565\n",
      "  (2, 2542)\t0.42345558973428904\n",
      "  (2, 7516)\t0.3411739502624901\n",
      "  (2, 3952)\t0.22296547983017628\n",
      "  (2, 4073)\t0.28770686736778844\n",
      "  (2, 4121)\t0.4728599947216733\n",
      "  (2, 896)\t0.32336803618486987\n",
      "  (3, 1962)\t0.6298684420490477\n",
      "  (3, 1541)\t0.6298684420490477\n",
      "  (3, 3298)\t0.45445735929942965\n",
      "  (4, 1100)\t0.4604972817632959\n",
      "  (4, 3198)\t0.49913443882370845\n",
      "  (4, 5112)\t0.5248127472613591\n",
      "  (4, 3310)\t0.5132042924418523\n",
      "  (5, 336)\t0.18802808085957515\n",
      "  :\t:\n",
      "  (4732, 1638)\t0.21051377136204036\n",
      "  (4732, 4115)\t0.20720393443788712\n",
      "  (4732, 5357)\t0.22459435949047968\n",
      "  (4732, 4942)\t0.21290968703463373\n",
      "  (4732, 2999)\t0.2917394091772359\n",
      "  (4732, 2124)\t0.20230469749712093\n",
      "  (4733, 6371)\t0.3775822711267322\n",
      "  (4733, 4539)\t0.3236460758024716\n",
      "  (4733, 2486)\t0.2806556239993951\n",
      "  (4733, 4305)\t0.2763466516676694\n",
      "  (4733, 5205)\t0.21181882002274535\n",
      "  (4733, 3593)\t0.2784472532105981\n",
      "  (4733, 2437)\t0.22154065319998947\n",
      "  (4733, 3616)\t0.25196117912868077\n",
      "  (4733, 4706)\t0.19466844387289486\n",
      "  (4733, 4997)\t0.5376801546695832\n",
      "  (4733, 5976)\t0.18865116238196894\n",
      "  (4734, 1264)\t0.5244589617093378\n",
      "  (4734, 2881)\t0.4243955110020157\n",
      "  (4734, 2878)\t0.40670244401382794\n",
      "  (4734, 4753)\t0.35359874347296527\n",
      "  (4734, 3200)\t0.3024479178411026\n",
      "  (4734, 3198)\t0.40363046882662634\n",
      "  (4735, 4201)\t0.7921100111402449\n",
      "  (4735, 1200)\t0.6103783500841107\n"
     ]
    }
   ],
   "source": [
    "x_train_feature = tfidf.fit_transform(X_train.Message)\n",
    "print(x_train_feature)"
   ]
  },
  {
   "cell_type": "code",
   "execution_count": 63,
   "metadata": {},
   "outputs": [
    {
     "name": "stdout",
     "output_type": "stream",
     "text": [
      "  (0, 6888)\t0.3705732510831153\n",
      "  (0, 5006)\t0.5291384754400474\n",
      "  (0, 4987)\t0.5745485256290435\n",
      "  (0, 2320)\t0.502575298923619\n",
      "  (1, 4214)\t0.657782331438692\n",
      "  (1, 4202)\t0.4374036792152095\n",
      "  (1, 771)\t0.6131887359174797\n",
      "  (2, 7546)\t0.14312700554450272\n",
      "  (2, 7115)\t0.19704744934386823\n",
      "  (2, 6739)\t0.12649075261531842\n",
      "  (2, 6445)\t0.13179418322798525\n",
      "  (2, 6217)\t0.15972455063700605\n",
      "  (2, 5996)\t0.19074646400991946\n",
      "  (2, 5205)\t0.13892399761086077\n",
      "  (2, 4723)\t0.18262308106345815\n",
      "  (2, 4169)\t0.2166200975035556\n",
      "  (2, 3655)\t0.2280693627167817\n",
      "  (2, 3411)\t0.15910392428201797\n",
      "  (2, 3222)\t0.22176837738283287\n",
      "  (2, 2756)\t0.20517083229032956\n",
      "  (2, 2102)\t0.2084967145570943\n",
      "  (2, 1967)\t0.4561387254335634\n",
      "  (2, 1885)\t0.247642010876469\n",
      "  (2, 1749)\t0.18892406639740694\n",
      "  (2, 759)\t0.23619274566324297\n",
      "  :\t:\n",
      "  (833, 7546)\t0.21778184521700455\n",
      "  (833, 7449)\t0.2449899790729705\n",
      "  (833, 7151)\t0.2470363624899714\n",
      "  (833, 7037)\t0.30766072997679467\n",
      "  (833, 7030)\t0.19488940307785724\n",
      "  (833, 6750)\t0.2666062921538245\n",
      "  (833, 6645)\t0.2998271147373983\n",
      "  (833, 6588)\t0.3768117265973107\n",
      "  (833, 5976)\t0.18826617576512208\n",
      "  (833, 4527)\t0.2046329296344679\n",
      "  (833, 3873)\t0.1603943738704677\n",
      "  (833, 1921)\t0.23213272981171285\n",
      "  (833, 562)\t0.31724830017357336\n",
      "  (833, 557)\t0.25383460401601576\n",
      "  (834, 5984)\t0.26089099732683474\n",
      "  (834, 5205)\t0.23757463691314287\n",
      "  (834, 5178)\t0.2652442908059194\n",
      "  (834, 4825)\t0.24847858296933326\n",
      "  (834, 4073)\t0.25767054704507475\n",
      "  (834, 3952)\t0.1996880981174708\n",
      "  (834, 3370)\t0.3147815570029519\n",
      "  (834, 2466)\t0.4234938659281586\n",
      "  (834, 2017)\t0.4234938659281586\n",
      "  (834, 1912)\t0.4234938659281586\n",
      "  (835, 6761)\t1.0\n"
     ]
    }
   ],
   "source": [
    "x_test_feature = tfidf.transform(X_test.Message)\n",
    "print(x_test_feature)"
   ]
  },
  {
   "cell_type": "code",
   "execution_count": 64,
   "metadata": {},
   "outputs": [],
   "source": [
    "y_train = y_train.astype('int')\n",
    "y_test = y_test.astype('int')"
   ]
  },
  {
   "cell_type": "code",
   "execution_count": 66,
   "metadata": {},
   "outputs": [],
   "source": [
    "from sklearn.ensemble import RandomForestClassifier\n",
    "from sklearn.metrics import accuracy_score"
   ]
  },
  {
   "cell_type": "code",
   "execution_count": 67,
   "metadata": {},
   "outputs": [],
   "source": [
    "models  = {\"Random_Forest\":RandomForestClassifier(n_estimators = 10, criterion = 'entropy')}"
   ]
  },
  {
   "cell_type": "code",
   "execution_count": 68,
   "metadata": {},
   "outputs": [
    {
     "name": "stdout",
     "output_type": "stream",
     "text": [
      "[0 0 1 0 0 0 0 0 0 0 1 0 0 0 0 0 0 0 0 1 0 0 0 0 0 0 0 0 0 0 0 1 0 0 0 0 0\n",
      " 0 0 0 0 0 0 0 0 0 0 1 0 0 0 0 0 0 0 0 0 0 0 0 0 0 0 0 0 1 0 0 0 0 1 1 0 0\n",
      " 0 0 0 0 0 1 0 0 1 0 0 0 0 0 0 0 0 0 0 0 0 0 0 0 0 1 0 0 0 0 0 0 1 1 0 0 1\n",
      " 0 0 0 0 0 0 0 1 0 0 0 0 0 0 0 0 0 0 1 0 0 0 0 0 0 0 0 0 0 0 0 0 0 0 1 0 0\n",
      " 1 0 0 0 0 0 0 0 0 0 0 1 0 0 0 0 0 0 0 0 0 0 0 1 0 0 0 0 0 0 1 0 0 0 0 0 0\n",
      " 0 0 1 0 0 0 0 0 0 0 1 0 0 0 0 0 0 0 0 0 0 0 0 0 0 0 0 1 1 0 1 0 0 0 0 0 0\n",
      " 0 0 0 0 0 0 0 0 0 0 0 0 0 0 0 0 0 0 0 0 0 0 0 0 0 0 0 0 0 0 0 0 0 0 0 0 0\n",
      " 0 0 0 0 0 0 0 0 0 0 0 0 0 0 0 0 0 0 0 0 0 0 0 0 0 0 0 0 0 0 0 0 0 0 0 0 0\n",
      " 0 0 0 1 0 0 0 0 0 0 0 0 0 0 1 0 0 0 1 0 0 0 0 0 0 0 0 0 0 0 0 0 0 0 0 0 0\n",
      " 0 0 0 0 0 0 0 0 0 0 0 0 1 0 0 0 0 1 0 0 1 0 0 0 0 1 0 1 1 0 0 0 0 0 0 0 0\n",
      " 1 0 0 0 0 0 0 0 0 0 1 0 0 0 0 0 1 0 0 0 0 0 0 0 1 0 0 1 0 0 1 1 0 0 1 0 0\n",
      " 0 0 1 0 1 0 0 0 0 0 0 0 0 0 0 1 0 0 0 0 0 0 0 0 0 0 0 0 0 0 0 0 0 0 0 0 1\n",
      " 0 0 0 0 0 1 0 0 0 0 1 0 1 1 0 0 1 0 1 0 0 0 1 0 0 0 0 0 0 0 0 1 0 0 0 0 0\n",
      " 0 0 0 0 1 0 0 0 0 0 0 0 0 0 1 0 0 0 0 1 0 0 0 0 0 0 1 0 0 0 0 0 0 0 0 0 0\n",
      " 0 0 0 0 0 0 0 0 0 0 0 0 1 1 1 0 0 1 0 0 0 0 0 0 0 1 0 0 0 0 1 0 0 0 1 0 0\n",
      " 0 0 0 0 0 0 0 0 1 0 1 0 0 0 1 0 0 0 0 0 1 0 0 0 0 0 0 0 0 0 0 0 0 0 1 0 0\n",
      " 0 0 1 0 0 0 0 0 0 1 0 0 0 1 0 0 0 0 1 0 0 0 0 0 0 1 0 0 0 0 0 1 1 0 0 0 0\n",
      " 0 0 0 0 0 0 1 1 0 0 0 0 0 1 0 0 0 0 0 0 0 0 0 0 0 1 0 0 0 0 0 0 1 0 0 0 0\n",
      " 1 0 0 0 0 0 0 1 0 0 1 0 0 0 0 0 0 0 0 1 0 0 0 0 0 0 0 0 0 0 0 0 0 0 1 0 0\n",
      " 0 1 0 0 0 0 0 0 0 0 0 0 0 0 0 0 1 1 1 1 0 0 1 1 0 0 0 0 1 0 1 0 0 0 0 0 1\n",
      " 0 0 0 0 0 1 0 0 0 0 1 0 1 0 0 0 0 0 0 0 0 0 0 0 0 0 0 0 0 0 0 0 0 1 0 0 0\n",
      " 0 0 0 0 0 1 0 0 0 0 0 0 0 0 0 0 0 0 0 0 0 0 0 0 0 0 1 0 0 0 0 0 0 0 1 0 0\n",
      " 0 0 0 0 0 1 1 1 0 0 1 0 0 0 0 0 0 0 0 1 0 0]\n",
      "Accuracy for Random_Forest model : 0.9736842105263158\n"
     ]
    }
   ],
   "source": [
    "for model_name, model in models.items():\n",
    "    y_pred=model.fit(x_train_feature, y_train).predict(x_test_feature)\n",
    "    print(y_pred)\n",
    "    print(f\"Accuracy for {model_name} model : {accuracy_score(y_test, y_pred)}\")"
   ]
  },
  {
   "cell_type": "code",
   "execution_count": 69,
   "metadata": {},
   "outputs": [],
   "source": [
    "y_pred=model.fit(x_train_feature, y_train).predict(a)"
   ]
  },
  {
   "cell_type": "code",
   "execution_count": 27,
   "metadata": {},
   "outputs": [],
   "source": [
    "l  = [\"I am Ham\",\n",
    "     \" I am not beautiful\"]"
   ]
  },
  {
   "cell_type": "code",
   "execution_count": 70,
   "metadata": {},
   "outputs": [],
   "source": [
    "d = pd.Series('SMS SERVICES. for your inclusive text credits, pls goto www.comuk.net login= 3qxj9 unsubscribe with STOP, no extra charge. help 08702840625.COMUK. 220-CM2 9AE')"
   ]
  },
  {
   "cell_type": "code",
   "execution_count": 71,
   "metadata": {},
   "outputs": [
    {
     "data": {
      "text/plain": [
       "0    SMS SERVICES. for your inclusive text credits,...\n",
       "dtype: object"
      ]
     },
     "execution_count": 71,
     "metadata": {},
     "output_type": "execute_result"
    }
   ],
   "source": [
    "d"
   ]
  },
  {
   "cell_type": "code",
   "execution_count": 72,
   "metadata": {},
   "outputs": [],
   "source": [
    "a = tfidf.transform(d)"
   ]
  },
  {
   "cell_type": "code",
   "execution_count": 73,
   "metadata": {},
   "outputs": [],
   "source": [
    "y_pred=model.fit(x_train_feature, y_train).predict(a)"
   ]
  },
  {
   "cell_type": "code",
   "execution_count": 74,
   "metadata": {},
   "outputs": [
    {
     "data": {
      "text/plain": [
       "1"
      ]
     },
     "execution_count": 74,
     "metadata": {},
     "output_type": "execute_result"
    }
   ],
   "source": [
    "y_pred[0]"
   ]
  },
  {
   "cell_type": "code",
   "execution_count": 75,
   "metadata": {},
   "outputs": [
    {
     "data": {
      "text/plain": [
       "'Love you aathi..love u lot..'"
      ]
     },
     "execution_count": 75,
     "metadata": {},
     "output_type": "execute_result"
    }
   ],
   "source": [
    "X_test.Message[2276]"
   ]
  },
  {
   "cell_type": "code",
   "execution_count": 44,
   "metadata": {},
   "outputs": [
    {
     "data": {
      "text/plain": [
       "'SMS SERVICES. for your inclusive text credits, pls goto www.comuk.net login= 3qxj9 unsubscribe with STOP, no extra charge. help 08702840625.COMUK. 220-CM2 9AE'"
      ]
     },
     "execution_count": 44,
     "metadata": {},
     "output_type": "execute_result"
    }
   ],
   "source": [
    "X_test.Message[4498]"
   ]
  },
  {
   "cell_type": "code",
   "execution_count": 79,
   "metadata": {},
   "outputs": [],
   "source": [
    "def predict(new_message):\n",
    "    d = pd.Series(new_message)\n",
    "    a = tfidf.transform(d)\n",
    "    y_pred=model.fit(x_train_feature, y_train).predict(a)\n",
    "    c = y_pred[0]\n",
    "    return c"
   ]
  },
  {
   "cell_type": "code",
   "execution_count": 80,
   "metadata": {},
   "outputs": [
    {
     "data": {
      "text/plain": [
       "1"
      ]
     },
     "execution_count": 80,
     "metadata": {},
     "output_type": "execute_result"
    }
   ],
   "source": [
    "predict('SMS SERVICES. for your inclusive text credits, pls goto www.comuk.net login= 3qxj9 unsubscribe with STOP, no extra charge. help 08702840625.COMUK. 220-CM2 9AE')"
   ]
  },
  {
   "cell_type": "code",
   "execution_count": 82,
   "metadata": {},
   "outputs": [],
   "source": [
    "def spam_classificatio(c):\n",
    "    if y_pred[0]==1:\n",
    "        return \"SPAM\"\n",
    "    else:\n",
    "        return \"HAM\""
   ]
  },
  {
   "cell_type": "code",
   "execution_count": 83,
   "metadata": {},
   "outputs": [
    {
     "data": {
      "text/plain": [
       "'SPAM'"
      ]
     },
     "execution_count": 83,
     "metadata": {},
     "output_type": "execute_result"
    }
   ],
   "source": [
    "spam_classificatio(1)"
   ]
  },
  {
   "cell_type": "code",
   "execution_count": null,
   "metadata": {},
   "outputs": [],
   "source": []
  }
 ],
 "metadata": {
  "colab": {
   "collapsed_sections": [],
   "name": "spam_detection.ipynb",
   "provenance": []
  },
  "kernelspec": {
   "display_name": "Python 3 (ipykernel)",
   "language": "python",
   "name": "python3"
  },
  "language_info": {
   "codemirror_mode": {
    "name": "ipython",
    "version": 3
   },
   "file_extension": ".py",
   "mimetype": "text/x-python",
   "name": "python",
   "nbconvert_exporter": "python",
   "pygments_lexer": "ipython3",
   "version": "3.9.12"
  }
 },
 "nbformat": 4,
 "nbformat_minor": 1
}
